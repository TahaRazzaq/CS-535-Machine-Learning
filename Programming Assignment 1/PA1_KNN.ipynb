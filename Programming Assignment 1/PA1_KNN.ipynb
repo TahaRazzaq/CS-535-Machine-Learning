{
  "nbformat": 4,
  "nbformat_minor": 0,
  "metadata": {
    "colab": {
      "name": "ML Assignment.ipynb",
      "provenance": [],
      "collapsed_sections": []
    },
    "kernelspec": {
      "name": "python3",
      "display_name": "Python 3"
    }
  },
  "cells": [
    {
      "cell_type": "code",
      "metadata": {
        "id": "qG7WAVzjneqD"
      },
      "source": [
        "import pandas as pd\n",
        "import numpy as np\n",
        "import matplotlib.pyplot as plt\n",
        "import string\n",
        "import collections\n",
        "from collections import Counter\n",
        "from scipy.spatial import distance"
      ],
      "execution_count": 1,
      "outputs": []
    },
    {
      "cell_type": "code",
      "metadata": {
        "id": "K8YWK5kJy_7t",
        "outputId": "f1b295c9-8bb7-496a-b2df-d7f434c92afb",
        "colab": {
          "base_uri": "https://localhost:8080/",
          "height": 34
        }
      },
      "source": [
        "from google.colab import drive\n",
        "drive.mount('/content/drive')"
      ],
      "execution_count": 3,
      "outputs": [
        {
          "output_type": "stream",
          "text": [
            "Mounted at /content/drive\n"
          ],
          "name": "stdout"
        }
      ]
    },
    {
      "cell_type": "code",
      "metadata": {
        "id": "nHwxswq4oSo8",
        "outputId": "7044c8e7-56db-4e21-8d5b-4e6d5141c5ec",
        "colab": {
          "base_uri": "https://localhost:8080/",
          "height": 204
        }
      },
      "source": [
        "train = pd.read_csv('/content/drive/My Drive/Machine Learning Fall 2020/Programming_Assignment_1/train.csv')\n",
        "train.head()"
      ],
      "execution_count": 4,
      "outputs": [
        {
          "output_type": "execute_result",
          "data": {
            "text/html": [
              "<div>\n",
              "<style scoped>\n",
              "    .dataframe tbody tr th:only-of-type {\n",
              "        vertical-align: middle;\n",
              "    }\n",
              "\n",
              "    .dataframe tbody tr th {\n",
              "        vertical-align: top;\n",
              "    }\n",
              "\n",
              "    .dataframe thead th {\n",
              "        text-align: right;\n",
              "    }\n",
              "</style>\n",
              "<table border=\"1\" class=\"dataframe\">\n",
              "  <thead>\n",
              "    <tr style=\"text-align: right;\">\n",
              "      <th></th>\n",
              "      <th>Sentiment</th>\n",
              "      <th>Tweet</th>\n",
              "    </tr>\n",
              "  </thead>\n",
              "  <tbody>\n",
              "    <tr>\n",
              "      <th>0</th>\n",
              "      <td>neutral</td>\n",
              "      <td>@united 877 from amsterdam to ewr, 02.27.2015,...</td>\n",
              "    </tr>\n",
              "    <tr>\n",
              "      <th>1</th>\n",
              "      <td>negative</td>\n",
              "      <td>@united IT-problems with the link? #3thparty</td>\n",
              "    </tr>\n",
              "    <tr>\n",
              "      <th>2</th>\n",
              "      <td>positive</td>\n",
              "      <td>@united -today the staff @ MSP took customer s...</td>\n",
              "    </tr>\n",
              "    <tr>\n",
              "      <th>3</th>\n",
              "      <td>negative</td>\n",
              "      <td>@AmericanAir but have been yet to receive assi...</td>\n",
              "    </tr>\n",
              "    <tr>\n",
              "      <th>4</th>\n",
              "      <td>negative</td>\n",
              "      <td>@SouthwestAir  you won't let me change my rese...</td>\n",
              "    </tr>\n",
              "  </tbody>\n",
              "</table>\n",
              "</div>"
            ],
            "text/plain": [
              "  Sentiment                                              Tweet\n",
              "0   neutral  @united 877 from amsterdam to ewr, 02.27.2015,...\n",
              "1  negative       @united IT-problems with the link? #3thparty\n",
              "2  positive  @united -today the staff @ MSP took customer s...\n",
              "3  negative  @AmericanAir but have been yet to receive assi...\n",
              "4  negative  @SouthwestAir  you won't let me change my rese..."
            ]
          },
          "metadata": {
            "tags": []
          },
          "execution_count": 4
        }
      ]
    },
    {
      "cell_type": "code",
      "metadata": {
        "id": "wzDtJ8mWsvyR",
        "outputId": "b3c58e6a-df57-41fd-a0cc-a992b331ed8e",
        "colab": {
          "base_uri": "https://localhost:8080/",
          "height": 204
        }
      },
      "source": [
        "test = pd.read_csv('/content/drive/My Drive/Machine Learning Fall 2020/Programming_Assignment_1/test.csv')\n",
        "test.head()"
      ],
      "execution_count": 5,
      "outputs": [
        {
          "output_type": "execute_result",
          "data": {
            "text/html": [
              "<div>\n",
              "<style scoped>\n",
              "    .dataframe tbody tr th:only-of-type {\n",
              "        vertical-align: middle;\n",
              "    }\n",
              "\n",
              "    .dataframe tbody tr th {\n",
              "        vertical-align: top;\n",
              "    }\n",
              "\n",
              "    .dataframe thead th {\n",
              "        text-align: right;\n",
              "    }\n",
              "</style>\n",
              "<table border=\"1\" class=\"dataframe\">\n",
              "  <thead>\n",
              "    <tr style=\"text-align: right;\">\n",
              "      <th></th>\n",
              "      <th>Sentiment</th>\n",
              "      <th>Tweet</th>\n",
              "    </tr>\n",
              "  </thead>\n",
              "  <tbody>\n",
              "    <tr>\n",
              "      <th>0</th>\n",
              "      <td>neutral</td>\n",
              "      <td>@VirginAmerica to jump into the Dallas-Austin ...</td>\n",
              "    </tr>\n",
              "    <tr>\n",
              "      <th>1</th>\n",
              "      <td>positive</td>\n",
              "      <td>@AmericanAir Chicago seen from seat 6A, AA 162...</td>\n",
              "    </tr>\n",
              "    <tr>\n",
              "      <th>2</th>\n",
              "      <td>negative</td>\n",
              "      <td>@united you need a bag bouncer. Get it together</td>\n",
              "    </tr>\n",
              "    <tr>\n",
              "      <th>3</th>\n",
              "      <td>negative</td>\n",
              "      <td>@JetBlue Hey Jetblue, you stranded an entire p...</td>\n",
              "    </tr>\n",
              "    <tr>\n",
              "      <th>4</th>\n",
              "      <td>negative</td>\n",
              "      <td>@USAirways Big fail on not having curbside bag...</td>\n",
              "    </tr>\n",
              "  </tbody>\n",
              "</table>\n",
              "</div>"
            ],
            "text/plain": [
              "  Sentiment                                              Tweet\n",
              "0   neutral  @VirginAmerica to jump into the Dallas-Austin ...\n",
              "1  positive  @AmericanAir Chicago seen from seat 6A, AA 162...\n",
              "2  negative    @united you need a bag bouncer. Get it together\n",
              "3  negative  @JetBlue Hey Jetblue, you stranded an entire p...\n",
              "4  negative  @USAirways Big fail on not having curbside bag..."
            ]
          },
          "metadata": {
            "tags": []
          },
          "execution_count": 5
        }
      ]
    },
    {
      "cell_type": "code",
      "metadata": {
        "id": "udv7B7zvo4AV"
      },
      "source": [
        "f = open('/content/drive/My Drive/Machine Learning Fall 2020/Programming_Assignment_1/stop_words.txt','r')\n",
        "stop_words = f.read()\n",
        "# print(stop_words)\n",
        "# \"won't\" in stop_words"
      ],
      "execution_count": 6,
      "outputs": []
    },
    {
      "cell_type": "code",
      "metadata": {
        "id": "WfD0Gm71t11M"
      },
      "source": [
        "def preprocessing(data):\n",
        "  data['Tweet'] = data['Tweet'].str.lower()\n",
        "  data['without_stopwords'] = data['Tweet'].apply(lambda x: ' '.join([word for word in x.split() if word not in (stop_words)]))\n",
        "  data['Tweet'] = data['without_stopwords']\n",
        "  data.drop(columns='without_stopwords',inplace = True)\n",
        "  data['Tweet'] = data['Tweet'].str.replace('[^#\\w\\s]','')\n",
        "  data['Tweet'] = data['Tweet'].str.replace('[\\d+]','')\n",
        "  return data\n"
      ],
      "execution_count": 7,
      "outputs": []
    },
    {
      "cell_type": "code",
      "metadata": {
        "id": "lTPj4IfkvMm1",
        "outputId": "b110f006-b706-4c7d-f1fe-ad1964d9c907",
        "colab": {
          "base_uri": "https://localhost:8080/",
          "height": 204
        }
      },
      "source": [
        "train = preprocessing(train)\n",
        "train.head()"
      ],
      "execution_count": 8,
      "outputs": [
        {
          "output_type": "execute_result",
          "data": {
            "text/html": [
              "<div>\n",
              "<style scoped>\n",
              "    .dataframe tbody tr th:only-of-type {\n",
              "        vertical-align: middle;\n",
              "    }\n",
              "\n",
              "    .dataframe tbody tr th {\n",
              "        vertical-align: top;\n",
              "    }\n",
              "\n",
              "    .dataframe thead th {\n",
              "        text-align: right;\n",
              "    }\n",
              "</style>\n",
              "<table border=\"1\" class=\"dataframe\">\n",
              "  <thead>\n",
              "    <tr style=\"text-align: right;\">\n",
              "      <th></th>\n",
              "      <th>Sentiment</th>\n",
              "      <th>Tweet</th>\n",
              "    </tr>\n",
              "  </thead>\n",
              "  <tbody>\n",
              "    <tr>\n",
              "      <th>0</th>\n",
              "      <td>neutral</td>\n",
              "      <td>united  amsterdam ewr</td>\n",
              "    </tr>\n",
              "    <tr>\n",
              "      <th>1</th>\n",
              "      <td>negative</td>\n",
              "      <td>united itproblems link #thparty</td>\n",
              "    </tr>\n",
              "    <tr>\n",
              "      <th>2</th>\n",
              "      <td>positive</td>\n",
              "      <td>united today staff  msp took customer service ...</td>\n",
              "    </tr>\n",
              "    <tr>\n",
              "      <th>3</th>\n",
              "      <td>negative</td>\n",
              "      <td>americanair yet receive assistance one agents ...</td>\n",
              "    </tr>\n",
              "    <tr>\n",
              "      <th>4</th>\n",
              "      <td>negative</td>\n",
              "      <td>southwestair let change reservation online was...</td>\n",
              "    </tr>\n",
              "  </tbody>\n",
              "</table>\n",
              "</div>"
            ],
            "text/plain": [
              "  Sentiment                                              Tweet\n",
              "0   neutral                            united  amsterdam ewr  \n",
              "1  negative                    united itproblems link #thparty\n",
              "2  positive  united today staff  msp took customer service ...\n",
              "3  negative  americanair yet receive assistance one agents ...\n",
              "4  negative  southwestair let change reservation online was..."
            ]
          },
          "metadata": {
            "tags": []
          },
          "execution_count": 8
        }
      ]
    },
    {
      "cell_type": "code",
      "metadata": {
        "id": "9CAQ3qBNpHKg",
        "outputId": "eb4aea08-d462-439a-a913-1dc5b68ff090",
        "colab": {
          "base_uri": "https://localhost:8080/",
          "height": 204
        }
      },
      "source": [
        "test = preprocessing(test)\n",
        "test.head()"
      ],
      "execution_count": 9,
      "outputs": [
        {
          "output_type": "execute_result",
          "data": {
            "text/html": [
              "<div>\n",
              "<style scoped>\n",
              "    .dataframe tbody tr th:only-of-type {\n",
              "        vertical-align: middle;\n",
              "    }\n",
              "\n",
              "    .dataframe tbody tr th {\n",
              "        vertical-align: top;\n",
              "    }\n",
              "\n",
              "    .dataframe thead th {\n",
              "        text-align: right;\n",
              "    }\n",
              "</style>\n",
              "<table border=\"1\" class=\"dataframe\">\n",
              "  <thead>\n",
              "    <tr style=\"text-align: right;\">\n",
              "      <th></th>\n",
              "      <th>Sentiment</th>\n",
              "      <th>Tweet</th>\n",
              "    </tr>\n",
              "  </thead>\n",
              "  <tbody>\n",
              "    <tr>\n",
              "      <th>0</th>\n",
              "      <td>neutral</td>\n",
              "      <td>virginamerica jump dallasaustin market  dallas...</td>\n",
              "    </tr>\n",
              "    <tr>\n",
              "      <th>1</th>\n",
              "      <td>positive</td>\n",
              "      <td>americanair chicago seen seat a aa  far great ...</td>\n",
              "    </tr>\n",
              "    <tr>\n",
              "      <th>2</th>\n",
              "      <td>negative</td>\n",
              "      <td>united bag bouncer get together</td>\n",
              "    </tr>\n",
              "    <tr>\n",
              "      <th>3</th>\n",
              "      <td>negative</td>\n",
              "      <td>jetblue jetblue stranded entire plane supposed...</td>\n",
              "    </tr>\n",
              "    <tr>\n",
              "      <th>4</th>\n",
              "      <td>negative</td>\n",
              "      <td>usairways big fail curbside baggage pittsburgh...</td>\n",
              "    </tr>\n",
              "  </tbody>\n",
              "</table>\n",
              "</div>"
            ],
            "text/plain": [
              "  Sentiment                                              Tweet\n",
              "0   neutral  virginamerica jump dallasaustin market  dallas...\n",
              "1  positive  americanair chicago seen seat a aa  far great ...\n",
              "2  negative                    united bag bouncer get together\n",
              "3  negative  jetblue jetblue stranded entire plane supposed...\n",
              "4  negative  usairways big fail curbside baggage pittsburgh..."
            ]
          },
          "metadata": {
            "tags": []
          },
          "execution_count": 9
        }
      ]
    },
    {
      "cell_type": "code",
      "metadata": {
        "id": "NdZ-Va4irOgN"
      },
      "source": [
        "def unique_words(train):\n",
        "  unique_list = set()\n",
        "  list_words = train['Tweet'].str.split()\n",
        "  list_words.apply(unique_list.update)\n",
        "  unique_list = list(unique_list)\n",
        "\n",
        "  len(unique_list)\n",
        "  # set(list_words)\n",
        "  template_dict = {}\n",
        "  for i in unique_list:\n",
        "    template_dict[i] = 0\n",
        "\n",
        "  copy_temp = template_dict\n",
        "\n",
        "  return unique_list"
      ],
      "execution_count": 10,
      "outputs": []
    },
    {
      "cell_type": "code",
      "metadata": {
        "id": "F2Hbgg-Ub82K"
      },
      "source": [
        "def train_feature_extract(train,unique_list):\n",
        "  BoW = []\n",
        "  temp = np.zeros(len(unique_list))\n",
        "  index = 0\n",
        "  for i in train['Tweet']:\n",
        "    word_count = \"\"\n",
        "    # template_dict = copy_temp.copy()\n",
        "    temp = np.zeros(len(unique_list))\n",
        "    word_count = Counter(i.split())\n",
        "    for k,v in word_count.items():\n",
        "      temp[unique_list.index(k)] = v\n",
        "\n",
        "      # template_dict[k] = v\n",
        "    # BoW.append(template_dict)\n",
        "    BoW.append(temp)\n",
        "    # print(BoW[0]['02272015'])\n",
        "    index = index + 1\n",
        "    \n",
        "    # for k,v in word_count.items():\n",
        "    #   template_dict[k] = 0\n",
        "    # if index == 3:\n",
        "    #   break\n",
        "    \n",
        "  # for i in train['Tweet']:\n",
        "  BoW_vectors = np.asarray(BoW)\n",
        "  return BoW_vectors"
      ],
      "execution_count": 11,
      "outputs": []
    },
    {
      "cell_type": "code",
      "metadata": {
        "id": "ZD8pF-DXuvxO"
      },
      "source": [
        "def test_feature_ext(test,unique_list):\n",
        "  test_BoW = []\n",
        "  temp = np.zeros(len(unique_list))\n",
        "  index = 0\n",
        "  for i in test['Tweet']:\n",
        "    word_count = \"\"\n",
        "    # template_dict = copy_temp.copy()\n",
        "    temp = np.zeros(len(unique_list))\n",
        "    word_count = Counter(i.split())\n",
        "    for k,v in word_count.items():\n",
        "      try:\n",
        "        temp[unique_list.index(k)] = v\n",
        "      except:\n",
        "        pass\n",
        "\n",
        "      # template_dict[k] = v\n",
        "    # BoW.append(template_dict)\n",
        "    test_BoW.append(temp)\n",
        "    # print(BoW[0]['02272015'])\n",
        "    index = index + 1\n",
        "\n",
        "  test_BoW_vectors = np.asarray(test_BoW)\n",
        "  return test_BoW_vectors"
      ],
      "execution_count": 12,
      "outputs": []
    },
    {
      "cell_type": "code",
      "metadata": {
        "id": "XZ1Dyi40sSc9"
      },
      "source": [
        ""
      ],
      "execution_count": 12,
      "outputs": []
    },
    {
      "cell_type": "code",
      "metadata": {
        "id": "rAJooqfgiZBs"
      },
      "source": [
        "def distance_calculation(test_vector,train_vector):\n",
        "  dist_matrix = distance.cdist(test_vector, train_vector, 'euclidean')\n",
        "  return dist_matrix"
      ],
      "execution_count": 13,
      "outputs": []
    },
    {
      "cell_type": "code",
      "metadata": {
        "id": "DAw7MDiT34ux"
      },
      "source": [
        "# dist_matrix = distance_calculation(test_vector,train_vector)"
      ],
      "execution_count": 14,
      "outputs": []
    },
    {
      "cell_type": "code",
      "metadata": {
        "id": "tA31SRD3X3Sc"
      },
      "source": [
        "\n",
        "def smallest(k, data):\n",
        "  \n",
        "  smallest_1 = data.min()\n",
        "  copy_data = data.copy()\n",
        "  sorted_data = sorted(data)\n",
        "  # print(sorted_data)\n",
        "  ksmallest_list = sorted_data[0:k]\n",
        "  index_list = []\n",
        "  for smallest_val in ksmallest_list:\n",
        "    i, = np.where(copy_data == smallest_val)\n",
        "    i = list(i)\n",
        "    index_list = index_list+i\n",
        "  index_list = index_list[0:k]\n",
        "\n",
        "  # print('Smallest dist list: ', ksmallest_list)\n",
        "  return index_list\n",
        "\n",
        "\n",
        "# smallest(7,dist_matrix[0])\n",
        "\n"
      ],
      "execution_count": 15,
      "outputs": []
    },
    {
      "cell_type": "code",
      "metadata": {
        "id": "p9jeUTbxKMhz"
      },
      "source": [
        "index = []"
      ],
      "execution_count": 16,
      "outputs": []
    },
    {
      "cell_type": "code",
      "metadata": {
        "id": "fm5rm06wg8uc"
      },
      "source": [
        "\n",
        "def kmeans_implement(k,data):\n",
        "  # print('value of K ', k )\n",
        "  indexes = smallest(k,data)\n",
        "  # print('Nearest Index:  ',indexes)\n",
        "  labels = []\n",
        "  for index_ in indexes:\n",
        "    labels.append(train.loc[index_]['Sentiment'])\n",
        "  # print('Labels  ',labels)\n",
        "  freq = Counter(labels)\n",
        "  # print('freq is ', freq)\n",
        "  most_com = freq.most_common(2)\n",
        "  # print('Most common are: ',most_com)\n",
        "  if k==1:\n",
        "    return most_com[0][0]\n",
        "  elif (len(most_com)>1) and (most_com[0][1] == most_com[1][1]):\n",
        "    # print('Tie')\n",
        "    # index.append((k,data))\n",
        "    return kmeans_implement(k-1,data)\n",
        "  else:\n",
        "    return most_com[0][0]\n",
        "# "
      ],
      "execution_count": 17,
      "outputs": []
    },
    {
      "cell_type": "code",
      "metadata": {
        "id": "Eg1ZctGXVxT9"
      },
      "source": [
        "# train.loc[1169]"
      ],
      "execution_count": 18,
      "outputs": []
    },
    {
      "cell_type": "code",
      "metadata": {
        "id": "oRrYVxb0ZY0c"
      },
      "source": [
        "# test.loc[55]"
      ],
      "execution_count": 19,
      "outputs": []
    },
    {
      "cell_type": "code",
      "metadata": {
        "id": "_SH4Lcw_6M9f"
      },
      "source": [
        "# print('label is : ', kmeans_implement(3,dist_matrix[55]))\n",
        "# print('label is : ', kmeans_implement(7,dist_matrix[4]))"
      ],
      "execution_count": 20,
      "outputs": []
    },
    {
      "cell_type": "code",
      "metadata": {
        "id": "2KBAgFZC26z9"
      },
      "source": [
        "# print('label is : ', kmeans_implement(3,dist_matrix[0]))"
      ],
      "execution_count": 21,
      "outputs": []
    },
    {
      "cell_type": "code",
      "metadata": {
        "id": "Ptus60GR0d_Z"
      },
      "source": [
        "def execution(k,test_BoW_vectors,BoW_vectors):\n",
        "  label_list =[]\n",
        "  dist_matrix = distance_calculation(test_BoW_vectors,BoW_vectors)\n",
        "  for i in dist_matrix:\n",
        "    label = kmeans_implement(k,i)\n",
        "    label_list.append(label)\n",
        "  \n",
        "  return label_list\n",
        "\n"
      ],
      "execution_count": 22,
      "outputs": []
    },
    {
      "cell_type": "code",
      "metadata": {
        "id": "xofig5Nb9H3l"
      },
      "source": [
        "def feature_extraction(train,test,train_vector, test_vector):\n",
        "  \n",
        "  print('Computing BoWs')\n",
        "  unique_list = unique_words(train)\n",
        "  train_vector = train_feature_extract(train,unique_list)\n",
        "  test_vector = test_feature_ext(test,unique_list)\n",
        "  return part1(test_vector,train_vector)"
      ],
      "execution_count": 23,
      "outputs": []
    },
    {
      "cell_type": "code",
      "metadata": {
        "id": "MXkHZtlD8pSy"
      },
      "source": [
        "def part1(test_vect,train_vector):\n",
        "  k_values = [1,3,5,7,10]\n",
        "  for i in k_values:\n",
        "    print('Running for K: ',i)\n",
        "    pred_labels = execution(i,test_vect,train_vector)\n",
        "    test['Labels_'+str(i)] = pred_labels\n",
        "\n",
        "  return test"
      ],
      "execution_count": 24,
      "outputs": []
    },
    {
      "cell_type": "code",
      "metadata": {
        "id": "8vV1G6p09Brb"
      },
      "source": [
        ""
      ],
      "execution_count": 24,
      "outputs": []
    },
    {
      "cell_type": "code",
      "metadata": {
        "id": "tICVk_ORjBcB"
      },
      "source": [
        "def classification_accuracy(col_name,test):\n",
        "  total = len(test[col_name])\n",
        "  query = np.where(test['Sentiment'] == test[col_name],1,0)\n",
        "  occurrence_counts = Counter(query)\n",
        "  correct = occurrence_counts[1]\n",
        "  sub_data = test[test['Sentiment'] != test[col_name]]\n",
        "  correct_pred = len(sub_data)\n",
        "  # print(sub_data)\n",
        "  accuracy = (correct/total)\n",
        "  accur = correct_pred/total\n",
        "  # print(accur)\n",
        "  # return sub_data\n",
        "  return accur\n",
        "\n",
        "\n",
        "# classification_accuracy('Labels_3',test)\n",
        "\n",
        "\n",
        "\n",
        "    "
      ],
      "execution_count": 25,
      "outputs": []
    },
    {
      "cell_type": "code",
      "metadata": {
        "id": "67nBFl6jmbRe"
      },
      "source": [
        "def precision(col_name,test):\n",
        "  # Out of the total predicted as postive how many are actually true positive\n",
        "  classes = list(set(test['Sentiment']))\n",
        "  macro_precision = 0\n",
        "  precision_list =[]\n",
        "  for c in classes:\n",
        "    total_predicted = (test[test[col_name] == c])\n",
        "    correct_predicted = total_predicted[total_predicted['Sentiment']==c]\n",
        "    class_precision = (len(correct_predicted['Sentiment']))/len(total_predicted['Sentiment'])\n",
        "    precision_list.append(class_precision)\n",
        "    macro_precision = macro_precision + class_precision\n",
        "  macro_precision = (macro_precision/len(classes))\n",
        "  return macro_precision,precision_list\n",
        "\n",
        "  # print(macro_precision)\n",
        "\n",
        "\n",
        "\n",
        "# precision('Labels_1')\n",
        "\n",
        "\n"
      ],
      "execution_count": 26,
      "outputs": []
    },
    {
      "cell_type": "code",
      "metadata": {
        "id": "CtClP6eCHQ0p"
      },
      "source": [
        "def recall(col_name,test):\n",
        "  # The actual values of a class and out of them how many were predicted correctly\n",
        "  classes = list(set(test['Sentiment']))\n",
        "  macro_recall = 0\n",
        "  recall_list =[]\n",
        "  for c in classes:\n",
        "    denomenator = (test[test['Sentiment'] == c])\n",
        "    numerator = denomenator[denomenator[col_name]==c]\n",
        "    class_recall = (len(numerator['Sentiment']))/len(denomenator['Sentiment'])\n",
        "    macro_recall = macro_recall + class_recall\n",
        "\n",
        "    recall_list.append(class_recall)\n",
        "  \n",
        "  macro_recall = (macro_recall/len(classes))\n",
        "  return macro_recall,recall_list"
      ],
      "execution_count": 27,
      "outputs": []
    },
    {
      "cell_type": "code",
      "metadata": {
        "id": "un6kFwsAKtAS"
      },
      "source": [
        "def f1_score(col_name,test):\n",
        "  _,precision_list = precision(col_name,test)\n",
        "  _,recall_list = recall(col_name,test)\n",
        "  f1_score_list =[]\n",
        "  macro_f1 = 0\n",
        "  for i in range(len(precision_list)-1):\n",
        "    f1_Score_class = 2 * ((precision_list[i]*recall_list[i])/(precision_list[i]+recall_list[i]))\n",
        "    f1_score_list.append(f1_Score_class)\n",
        "    macro_f1 = macro_f1 + f1_Score_class\n",
        "  \n",
        "  macro_f1 = (macro_f1/len(precision_list))\n",
        "\n",
        "  return macro_f1,f1_score_list\n"
      ],
      "execution_count": 28,
      "outputs": []
    },
    {
      "cell_type": "code",
      "metadata": {
        "id": "QowE2YCIAPPK"
      },
      "source": [
        " def conf_matrix(col_name,test): \n",
        "  classes = list(set(test['Sentiment']))\n",
        "  tp = 0\n",
        "  fp = 0\n",
        "  tn = 0\n",
        "  fn = 0\n",
        "  conf_matrix_list =[]\n",
        "  for c in classes:\n",
        "    sub_data = test[(test['Sentiment']==c)]\n",
        "    sub_data_neg = test[(test['Sentiment']!=c)]\n",
        "    tp = len(sub_data[sub_data[col_name] ==c]['Sentiment'])\n",
        "    tn = len(sub_data_neg[sub_data_neg[col_name] !=c]['Sentiment'])\n",
        "    fp = len(sub_data_neg[sub_data_neg[col_name] ==c]['Sentiment'])\n",
        "    fn = len(sub_data[sub_data[col_name] !=c]['Sentiment'])\n",
        "    result = (c,tp,fp,fn,tn)\n",
        "\n",
        "    conf_matrix_list.append(result)\n",
        "    # print(conf_matrix_list)\n",
        "  \n",
        "  return conf_matrix_list\n",
        "\n",
        "  "
      ],
      "execution_count": 29,
      "outputs": []
    },
    {
      "cell_type": "code",
      "metadata": {
        "id": "-38E0d2EJ-ap"
      },
      "source": [
        "def evaluate(k_values,test):\n",
        "  precision_list =[]\n",
        "  recall_list =[]\n",
        "  accuraccy_list =[]\n",
        "  f1_list =[]\n",
        "  for i in k_values:\n",
        "    print(\"\\nFor K = \"+str(i)+': ')\n",
        "    acc = classification_accuracy('Labels_'+str(i),test)\n",
        "    prec = precision('Labels_'+str(i),test)[0]\n",
        "    rec = recall('Labels_'+str(i),test)[0]\n",
        "    # f1 = f1_score('Labels_'+str(i),test)[0]\n",
        "    f1 = 2*((prec*rec)/(prec+rec))\n",
        "    precision_list.append(prec)\n",
        "    recall_list.append(rec)\n",
        "    accuraccy_list.append(acc)\n",
        "    f1_list.append(f1)\n",
        "    print('Classification Accuracy: ',acc)\n",
        "    print('Macro Avergae Precision: ',prec)\n",
        "    print('Macro Avergae recall: ',rec)\n",
        "    print('Macro Avergae f1_score: ',f1)\n",
        "    print('Confusion Matrix (tp,fp,fn,tn): ',conf_matrix('Labels_'+str(i),test))\n",
        "    print('\\n')\n",
        "\n",
        "  return accuraccy_list, precision_list, recall_list,f1_list"
      ],
      "execution_count": 30,
      "outputs": []
    },
    {
      "cell_type": "code",
      "metadata": {
        "id": "R7T4aynlY0D1",
        "outputId": "62744575-59f7-4ddc-c412-37a532493193",
        "colab": {
          "base_uri": "https://localhost:8080/",
          "height": 884
        }
      },
      "source": [
        "def running_part1(train,test):\n",
        "  k_values = [1,3,5,7,10]\n",
        "  test = feature_extraction(train,test,None, None)\n",
        "  accuraccy_list, precision_list, recall_list,f1_list = evaluate(k_values,test)\n",
        "  df = pd.DataFrame()\n",
        "  df['K-values'] = k_values\n",
        "  df['Accuraccy'] = accuraccy_list\n",
        "  df['Precision'] = precision_list\n",
        "  df['Recall'] = recall_list\n",
        "  # df['F1-Score'] = f1_list\n",
        "  return df\n",
        "\n",
        "\n",
        "df = running_part1(train,test)"
      ],
      "execution_count": 31,
      "outputs": [
        {
          "output_type": "stream",
          "text": [
            "Computing BoWs\n",
            "Running for K:  1\n",
            "Running for K:  3\n",
            "Running for K:  5\n",
            "Running for K:  7\n",
            "Running for K:  10\n",
            "\n",
            "For K = 1: \n",
            "Classification Accuracy:  0.4984594317014721\n",
            "Macro Avergae Precision:  0.5394781439511832\n",
            "Macro Avergae recall:  0.542623188070411\n",
            "Macro Avergae f1_score:  0.541046095596632\n",
            "Confusion Matrix (tp,fp,fn,tn):  [('negative', 805, 155, 1029, 932), ('neutral', 425, 1060, 190, 1246), ('positive', 235, 241, 237, 2208)]\n",
            "\n",
            "\n",
            "\n",
            "For K = 3: \n",
            "Classification Accuracy:  0.5166039027730229\n",
            "Macro Avergae Precision:  0.546512559550168\n",
            "Macro Avergae recall:  0.5598015894304185\n",
            "Macro Avergae f1_score:  0.5530772606709903\n",
            "Confusion Matrix (tp,fp,fn,tn):  [('negative', 699, 126, 1135, 961), ('neutral', 431, 1116, 184, 1190), ('positive', 282, 267, 190, 2182)]\n",
            "\n",
            "\n",
            "\n",
            "For K = 5: \n",
            "Classification Accuracy:  0.5289284491612462\n",
            "Macro Avergae Precision:  0.5594008895230383\n",
            "Macro Avergae recall:  0.5577725628928101\n",
            "Macro Avergae f1_score:  0.5585855395311332\n",
            "Confusion Matrix (tp,fp,fn,tn):  [('negative', 645, 99, 1189, 988), ('neutral', 461, 1212, 154, 1094), ('positive', 270, 234, 202, 2215)]\n",
            "\n",
            "\n",
            "\n",
            "For K = 7: \n",
            "Classification Accuracy:  0.5354330708661418\n",
            "Macro Avergae Precision:  0.5636167279053376\n",
            "Macro Avergae recall:  0.5549710749450248\n",
            "Macro Avergae f1_score:  0.5592604899598855\n",
            "Confusion Matrix (tp,fp,fn,tn):  [('negative', 621, 90, 1213, 997), ('neutral', 473, 1253, 142, 1053), ('positive', 263, 221, 209, 2228)]\n",
            "\n",
            "\n",
            "\n",
            "For K = 10: \n",
            "Classification Accuracy:  0.5525504964053406\n",
            "Macro Avergae Precision:  0.5272356224764231\n",
            "Macro Avergae recall:  0.5405802101752418\n",
            "Macro Avergae f1_score:  0.5338245320869937\n",
            "Confusion Matrix (tp,fp,fn,tn):  [('negative', 588, 89, 1246, 998), ('neutral', 451, 1179, 164, 1127), ('positive', 268, 346, 204, 2103)]\n",
            "\n",
            "\n"
          ],
          "name": "stdout"
        }
      ]
    },
    {
      "cell_type": "code",
      "metadata": {
        "id": "ehHVIxe7qo7q",
        "outputId": "56f41809-a283-4b8d-eaca-8acac947cace",
        "colab": {
          "base_uri": "https://localhost:8080/",
          "height": 466
        }
      },
      "source": [
        "def plotting_part1(df):\n",
        "  df['Macro-F1'] = 2*((df['Precision'] * df['Recall'])/(df['Precision'] + df['Recall']))\n",
        "  ax = plt.gca()\n",
        "\n",
        "  df.plot(kind='line',x='K-values',y='Accuraccy',ax=ax)\n",
        "  df.plot(kind='line',x='K-values',y='Precision', color='lawngreen', ax=ax)\n",
        "  df.plot(kind='line',x='K-values',y='Recall', color='gold', ax=ax)\n",
        "  # df.plot(kind='line',x='K-values',y='F1-Score', color='darkorchid', ax=ax)\n",
        "  df.plot(kind='line',x='K-values',y='Macro-F1', color='deeppink', ax=ax)\n",
        "\n",
        "  plt.show()\n",
        "  return df\n",
        "\n",
        "plotting_part1(df)"
      ],
      "execution_count": 32,
      "outputs": [
        {
          "output_type": "display_data",
          "data": {
            "image/png": "[encoded data removed]",
            "text/plain": [
              "<Figure size 432x288 with 1 Axes>"
            ]
          },
          "metadata": {
            "tags": [],
            "needs_background": "light"
          }
        },
        {
          "output_type": "execute_result",
          "data": {
            "text/html": [
              "<div>\n",
              "<style scoped>\n",
              "    .dataframe tbody tr th:only-of-type {\n",
              "        vertical-align: middle;\n",
              "    }\n",
              "\n",
              "    .dataframe tbody tr th {\n",
              "        vertical-align: top;\n",
              "    }\n",
              "\n",
              "    .dataframe thead th {\n",
              "        text-align: right;\n",
              "    }\n",
              "</style>\n",
              "<table border=\"1\" class=\"dataframe\">\n",
              "  <thead>\n",
              "    <tr style=\"text-align: right;\">\n",
              "      <th></th>\n",
              "      <th>K-values</th>\n",
              "      <th>Accuraccy</th>\n",
              "      <th>Precision</th>\n",
              "      <th>Recall</th>\n",
              "      <th>Macro-F1</th>\n",
              "    </tr>\n",
              "  </thead>\n",
              "  <tbody>\n",
              "    <tr>\n",
              "      <th>0</th>\n",
              "      <td>1</td>\n",
              "      <td>0.498459</td>\n",
              "      <td>0.539478</td>\n",
              "      <td>0.542623</td>\n",
              "      <td>0.541046</td>\n",
              "    </tr>\n",
              "    <tr>\n",
              "      <th>1</th>\n",
              "      <td>3</td>\n",
              "      <td>0.516604</td>\n",
              "      <td>0.546513</td>\n",
              "      <td>0.559802</td>\n",
              "      <td>0.553077</td>\n",
              "    </tr>\n",
              "    <tr>\n",
              "      <th>2</th>\n",
              "      <td>5</td>\n",
              "      <td>0.528928</td>\n",
              "      <td>0.559401</td>\n",
              "      <td>0.557773</td>\n",
              "      <td>0.558586</td>\n",
              "    </tr>\n",
              "    <tr>\n",
              "      <th>3</th>\n",
              "      <td>7</td>\n",
              "      <td>0.535433</td>\n",
              "      <td>0.563617</td>\n",
              "      <td>0.554971</td>\n",
              "      <td>0.559260</td>\n",
              "    </tr>\n",
              "    <tr>\n",
              "      <th>4</th>\n",
              "      <td>10</td>\n",
              "      <td>0.552550</td>\n",
              "      <td>0.527236</td>\n",
              "      <td>0.540580</td>\n",
              "      <td>0.533825</td>\n",
              "    </tr>\n",
              "  </tbody>\n",
              "</table>\n",
              "</div>"
            ],
            "text/plain": [
              "   K-values  Accuraccy  Precision    Recall  Macro-F1\n",
              "0         1   0.498459   0.539478  0.542623  0.541046\n",
              "1         3   0.516604   0.546513  0.559802  0.553077\n",
              "2         5   0.528928   0.559401  0.557773  0.558586\n",
              "3         7   0.535433   0.563617  0.554971  0.559260\n",
              "4        10   0.552550   0.527236  0.540580  0.533825"
            ]
          },
          "metadata": {
            "tags": []
          },
          "execution_count": 32
        }
      ]
    },
    {
      "cell_type": "code",
      "metadata": {
        "id": "xTnBoV88ZSUu",
        "outputId": "d4d9bdbc-6465-4b1c-81f6-8c2f6606c674",
        "colab": {
          "base_uri": "https://localhost:8080/",
          "height": 204
        }
      },
      "source": [
        "df.head()"
      ],
      "execution_count": 33,
      "outputs": [
        {
          "output_type": "execute_result",
          "data": {
            "text/html": [
              "<div>\n",
              "<style scoped>\n",
              "    .dataframe tbody tr th:only-of-type {\n",
              "        vertical-align: middle;\n",
              "    }\n",
              "\n",
              "    .dataframe tbody tr th {\n",
              "        vertical-align: top;\n",
              "    }\n",
              "\n",
              "    .dataframe thead th {\n",
              "        text-align: right;\n",
              "    }\n",
              "</style>\n",
              "<table border=\"1\" class=\"dataframe\">\n",
              "  <thead>\n",
              "    <tr style=\"text-align: right;\">\n",
              "      <th></th>\n",
              "      <th>K-values</th>\n",
              "      <th>Accuraccy</th>\n",
              "      <th>Precision</th>\n",
              "      <th>Recall</th>\n",
              "      <th>Macro-F1</th>\n",
              "    </tr>\n",
              "  </thead>\n",
              "  <tbody>\n",
              "    <tr>\n",
              "      <th>0</th>\n",
              "      <td>1</td>\n",
              "      <td>0.498459</td>\n",
              "      <td>0.539478</td>\n",
              "      <td>0.542623</td>\n",
              "      <td>0.541046</td>\n",
              "    </tr>\n",
              "    <tr>\n",
              "      <th>1</th>\n",
              "      <td>3</td>\n",
              "      <td>0.516604</td>\n",
              "      <td>0.546513</td>\n",
              "      <td>0.559802</td>\n",
              "      <td>0.553077</td>\n",
              "    </tr>\n",
              "    <tr>\n",
              "      <th>2</th>\n",
              "      <td>5</td>\n",
              "      <td>0.528928</td>\n",
              "      <td>0.559401</td>\n",
              "      <td>0.557773</td>\n",
              "      <td>0.558586</td>\n",
              "    </tr>\n",
              "    <tr>\n",
              "      <th>3</th>\n",
              "      <td>7</td>\n",
              "      <td>0.535433</td>\n",
              "      <td>0.563617</td>\n",
              "      <td>0.554971</td>\n",
              "      <td>0.559260</td>\n",
              "    </tr>\n",
              "    <tr>\n",
              "      <th>4</th>\n",
              "      <td>10</td>\n",
              "      <td>0.552550</td>\n",
              "      <td>0.527236</td>\n",
              "      <td>0.540580</td>\n",
              "      <td>0.533825</td>\n",
              "    </tr>\n",
              "  </tbody>\n",
              "</table>\n",
              "</div>"
            ],
            "text/plain": [
              "   K-values  Accuraccy  Precision    Recall  Macro-F1\n",
              "0         1   0.498459   0.539478  0.542623  0.541046\n",
              "1         3   0.516604   0.546513  0.559802  0.553077\n",
              "2         5   0.528928   0.559401  0.557773  0.558586\n",
              "3         7   0.535433   0.563617  0.554971  0.559260\n",
              "4        10   0.552550   0.527236  0.540580  0.533825"
            ]
          },
          "metadata": {
            "tags": []
          },
          "execution_count": 33
        }
      ]
    },
    {
      "cell_type": "code",
      "metadata": {
        "id": "hupRMcFpZld0"
      },
      "source": [
        "# ax = plt.gca()\n",
        "\n",
        "# df.plot(kind='line',x='K-values',y='Accuraccy',ax=ax)\n",
        "# df.plot(kind='line',x='K-values',y='Precision', color='lawngreen', ax=ax)\n",
        "# df.plot(kind='line',x='K-values',y='Recall', color='gold', ax=ax)\n",
        "# df.plot(kind='line',x='K-values',y='F1-Score', color='darkorchid', ax=ax)\n",
        "# df.plot(kind='line',x='K-values',y='Macro-F1', color='deeppink', ax=ax)\n",
        "\n",
        "# plt.show()"
      ],
      "execution_count": null,
      "outputs": []
    },
    {
      "cell_type": "code",
      "metadata": {
        "id": "f5A3Yk-5a1Ok"
      },
      "source": [
        ""
      ],
      "execution_count": null,
      "outputs": []
    },
    {
      "cell_type": "markdown",
      "metadata": {
        "id": "iLzNZEWgazik"
      },
      "source": [
        "# **Part 2**"
      ]
    },
    {
      "cell_type": "code",
      "metadata": {
        "id": "1PHuJkqrZ-eS"
      },
      "source": [
        ""
      ],
      "execution_count": null,
      "outputs": []
    },
    {
      "cell_type": "code",
      "metadata": {
        "id": "G6dZi-BtNO_r"
      },
      "source": [
        "from sklearn.neighbors import KNeighborsClassifier\n",
        "from sklearn.metrics import accuracy_score\n",
        "from sklearn.metrics import confusion_matrix\n",
        "from sklearn.metrics import classification_report\n",
        "unique_list = unique_words(train)\n",
        "X_train = train_feature_extract(train,unique_list)\n",
        "X_test = test_feature_ext(test,unique_list)\n",
        "# X_train = BoW_vectors\n",
        "y_train = train['Sentiment']\n",
        "# test_data = pd.read_csv('/content/drive/My Drive/Machine Learning Fall 2020/Programming_Assignment_1/test.csv')\n",
        "# X_test = test_BoW_vectors\n",
        "y_test= test['Sentiment']\n",
        "labels_list = list(set(train['Sentiment']))"
      ],
      "execution_count": 34,
      "outputs": []
    },
    {
      "cell_type": "code",
      "metadata": {
        "id": "3aGetqfWRFpE"
      },
      "source": [
        "def scikit_impl_knn(k,X_train,y_train,X_test,y_test):\n",
        "  neigh = KNeighborsClassifier(n_neighbors=k)\n",
        "  neigh.fit(X_train, y_train)\n",
        "  y_pred = neigh.predict(X_test)\n",
        "  accuracy = accuracy_score(y_test, y_pred)\n",
        "  conf_matrix = confusion_matrix(y_test, y_pred, labels=labels_list)\n",
        "  class_rep = classification_report(y_test, y_pred, labels=labels_list,output_dict = True)\n",
        "\n",
        "  return accuracy, conf_matrix,class_rep\n",
        "\n"
      ],
      "execution_count": 35,
      "outputs": []
    },
    {
      "cell_type": "code",
      "metadata": {
        "id": "RSTdn-h_S96n"
      },
      "source": [
        "# accuracy, conf_matrix,class_rep = scikit_impl_knn(1)\n",
        "# accuracy\n",
        "# # conf_matrix\n",
        "# # class_rep"
      ],
      "execution_count": 36,
      "outputs": []
    },
    {
      "cell_type": "code",
      "metadata": {
        "id": "-zFhBw4UXsiL"
      },
      "source": [
        "# # conf_matrix\n",
        "# print(class_rep)"
      ],
      "execution_count": 37,
      "outputs": []
    },
    {
      "cell_type": "code",
      "metadata": {
        "id": "jsnrLqZGc9no"
      },
      "source": [
        "# print(class_rep['macro avg']['precision'])"
      ],
      "execution_count": 38,
      "outputs": []
    },
    {
      "cell_type": "code",
      "metadata": {
        "id": "fiIYPLSypG6Q"
      },
      "source": [
        ""
      ],
      "execution_count": 38,
      "outputs": []
    },
    {
      "cell_type": "code",
      "metadata": {
        "id": "GeKubDyWTKL4"
      },
      "source": [
        "def scikit_run(k_values,X_train,y_train,X_test,y_test):\n",
        "  accuracy_list = []\n",
        "  conf_mat_list = []\n",
        "  class_rep_list = []\n",
        "  for i in k_values:\n",
        "    print('Running For K = :',i)\n",
        "    accuracy, conf_matrix,class_rep = scikit_impl_knn(i,X_train,y_train,X_test,y_test)\n",
        "    accuracy_list.append(accuracy)\n",
        "    conf_mat_list.append(conf_matrix)\n",
        "    class_rep_list.append(class_rep)\n",
        "\n",
        "  return accuracy_list, conf_mat_list, class_rep_list"
      ],
      "execution_count": 39,
      "outputs": []
    },
    {
      "cell_type": "code",
      "metadata": {
        "id": "DW8KVX8NxGbb"
      },
      "source": [
        ""
      ],
      "execution_count": 39,
      "outputs": []
    },
    {
      "cell_type": "code",
      "metadata": {
        "id": "S2sxBcP6xHVl"
      },
      "source": [
        "def part2(X_train,y_train,X_test,y_test):\n",
        "  k_values = [1,3,5,7,10]\n",
        "  acc, conf, class_report = scikit_run(k_values, X_train,y_train,X_test,y_test)\n",
        "  temp_df = pd.DataFrame()\n",
        "  k_values = [1,3,5,7,10]\n",
        "  precision_plt =[]\n",
        "  recall_plt =[]\n",
        "  f1_plt =[]\n",
        "  for i in range(len(k_values)):\n",
        "    precision_plt.append(class_report[i]['macro avg']['precision'])\n",
        "    recall_plt.append(class_report[i]['macro avg']['recall'])\n",
        "    f1_plt.append(class_report[i]['macro avg']['f1-score'])\n",
        "\n",
        "  temp_df['K_values'] = k_values\n",
        "  temp_df['Acuuracies'] = acc\n",
        "  temp_df['Precision'] = precision_plt\n",
        "  temp_df['Recall'] = recall_plt\n",
        "  temp_df['F1-Score'] = f1_plt\n",
        "  temp_df.head()\n",
        "\n",
        "  return temp_df"
      ],
      "execution_count": 40,
      "outputs": []
    },
    {
      "cell_type": "code",
      "metadata": {
        "id": "tw2_iOBrbQ6s"
      },
      "source": [
        "def plotting_part2(temp_df):\n",
        "  ax = plt.gca()\n",
        "\n",
        "  temp_df.plot(kind='line',x='K_values',y='Acuuracies',ax=ax)\n",
        "  temp_df.plot(kind='line',x='K_values',y='Precision',color='lawngreen', ax=ax)\n",
        "  temp_df.plot(kind='line',x='K_values',y='Recall', color='gold', ax=ax)\n",
        "  temp_df.plot(kind='line',x='K_values',y='F1-Score', color='deeppink', ax=ax)\n",
        "\n",
        "\n",
        "  plt.show()"
      ],
      "execution_count": 41,
      "outputs": []
    },
    {
      "cell_type": "code",
      "metadata": {
        "id": "3bqIIbkVcDEs",
        "outputId": "6ce1bf1f-e3a3-4d84-fca3-74ac183a817c",
        "colab": {
          "base_uri": "https://localhost:8080/",
          "height": 289
        }
      },
      "source": [
        "temp_df = part2(X_train,y_train,X_test,y_test)\n",
        "temp_df.head()\n"
      ],
      "execution_count": 42,
      "outputs": [
        {
          "output_type": "stream",
          "text": [
            "Running For K = : 1\n",
            "Running For K = : 3\n",
            "Running For K = : 5\n",
            "Running For K = : 7\n",
            "Running For K = : 10\n"
          ],
          "name": "stdout"
        },
        {
          "output_type": "execute_result",
          "data": {
            "text/html": [
              "<div>\n",
              "<style scoped>\n",
              "    .dataframe tbody tr th:only-of-type {\n",
              "        vertical-align: middle;\n",
              "    }\n",
              "\n",
              "    .dataframe tbody tr th {\n",
              "        vertical-align: top;\n",
              "    }\n",
              "\n",
              "    .dataframe thead th {\n",
              "        text-align: right;\n",
              "    }\n",
              "</style>\n",
              "<table border=\"1\" class=\"dataframe\">\n",
              "  <thead>\n",
              "    <tr style=\"text-align: right;\">\n",
              "      <th></th>\n",
              "      <th>K_values</th>\n",
              "      <th>Acuuracies</th>\n",
              "      <th>Precision</th>\n",
              "      <th>Recall</th>\n",
              "      <th>F1-Score</th>\n",
              "    </tr>\n",
              "  </thead>\n",
              "  <tbody>\n",
              "    <tr>\n",
              "      <th>0</th>\n",
              "      <td>1</td>\n",
              "      <td>0.515235</td>\n",
              "      <td>0.533104</td>\n",
              "      <td>0.554226</td>\n",
              "      <td>0.502760</td>\n",
              "    </tr>\n",
              "    <tr>\n",
              "      <th>1</th>\n",
              "      <td>3</td>\n",
              "      <td>0.526532</td>\n",
              "      <td>0.543322</td>\n",
              "      <td>0.570814</td>\n",
              "      <td>0.518356</td>\n",
              "    </tr>\n",
              "    <tr>\n",
              "      <th>2</th>\n",
              "      <td>5</td>\n",
              "      <td>0.508045</td>\n",
              "      <td>0.546247</td>\n",
              "      <td>0.558531</td>\n",
              "      <td>0.501738</td>\n",
              "    </tr>\n",
              "    <tr>\n",
              "      <th>3</th>\n",
              "      <td>7</td>\n",
              "      <td>0.465936</td>\n",
              "      <td>0.515078</td>\n",
              "      <td>0.527360</td>\n",
              "      <td>0.459784</td>\n",
              "    </tr>\n",
              "    <tr>\n",
              "      <th>4</th>\n",
              "      <td>10</td>\n",
              "      <td>0.450873</td>\n",
              "      <td>0.513265</td>\n",
              "      <td>0.531686</td>\n",
              "      <td>0.449460</td>\n",
              "    </tr>\n",
              "  </tbody>\n",
              "</table>\n",
              "</div>"
            ],
            "text/plain": [
              "   K_values  Acuuracies  Precision    Recall  F1-Score\n",
              "0         1    0.515235   0.533104  0.554226  0.502760\n",
              "1         3    0.526532   0.543322  0.570814  0.518356\n",
              "2         5    0.508045   0.546247  0.558531  0.501738\n",
              "3         7    0.465936   0.515078  0.527360  0.459784\n",
              "4        10    0.450873   0.513265  0.531686  0.449460"
            ]
          },
          "metadata": {
            "tags": []
          },
          "execution_count": 42
        }
      ]
    },
    {
      "cell_type": "code",
      "metadata": {
        "id": "fav90bG6lTmZ",
        "outputId": "11a2e1d1-89aa-46dc-9de0-3c09d1f0be2d",
        "colab": {
          "base_uri": "https://localhost:8080/",
          "height": 280
        }
      },
      "source": [
        "plotting_part2(temp_df)"
      ],
      "execution_count": 43,
      "outputs": [
        {
          "output_type": "display_data",
          "data": {
            "image/png": "[encoded data removed]",
            "text/plain": [
              "<Figure size 432x288 with 1 Axes>"
            ]
          },
          "metadata": {
            "tags": [],
            "needs_background": "light"
          }
        }
      ]
    },
    {
      "cell_type": "markdown",
      "metadata": {
        "id": "tRLvIdctt-4n"
      },
      "source": [
        "# **Part 3**"
      ]
    },
    {
      "cell_type": "code",
      "metadata": {
        "id": "bdsy8KRwuB7-",
        "outputId": "696c7d6d-c0fe-478d-a417-c441309a85fb",
        "colab": {
          "base_uri": "https://localhost:8080/",
          "height": 326
        }
      },
      "source": [
        "pip install --upgrade gensim"
      ],
      "execution_count": 44,
      "outputs": [
        {
          "output_type": "stream",
          "text": [
            "Collecting gensim\n",
            "\u001b[?25l  Downloading https://files.pythonhosted.org/packages/2b/e0/fa6326251692056dc880a64eb22117e03269906ba55a6864864d24ec8b4e/gensim-3.8.3-cp36-cp36m-manylinux1_x86_64.whl (24.2MB)\n",
            "\u001b[K     |████████████████████████████████| 24.2MB 65.9MB/s \n",
            "\u001b[?25hRequirement already satisfied, skipping upgrade: scipy>=0.18.1 in /usr/local/lib/python3.6/dist-packages (from gensim) (1.4.1)\n",
            "Requirement already satisfied, skipping upgrade: numpy>=1.11.3 in /usr/local/lib/python3.6/dist-packages (from gensim) (1.18.5)\n",
            "Requirement already satisfied, skipping upgrade: smart-open>=1.8.1 in /usr/local/lib/python3.6/dist-packages (from gensim) (2.2.0)\n",
            "Requirement already satisfied, skipping upgrade: six>=1.5.0 in /usr/local/lib/python3.6/dist-packages (from gensim) (1.15.0)\n",
            "Requirement already satisfied, skipping upgrade: requests in /usr/local/lib/python3.6/dist-packages (from smart-open>=1.8.1->gensim) (2.23.0)\n",
            "Requirement already satisfied, skipping upgrade: urllib3!=1.25.0,!=1.25.1,<1.26,>=1.21.1 in /usr/local/lib/python3.6/dist-packages (from requests->smart-open>=1.8.1->gensim) (1.24.3)\n",
            "Requirement already satisfied, skipping upgrade: idna<3,>=2.5 in /usr/local/lib/python3.6/dist-packages (from requests->smart-open>=1.8.1->gensim) (2.10)\n",
            "Requirement already satisfied, skipping upgrade: certifi>=2017.4.17 in /usr/local/lib/python3.6/dist-packages (from requests->smart-open>=1.8.1->gensim) (2020.6.20)\n",
            "Requirement already satisfied, skipping upgrade: chardet<4,>=3.0.2 in /usr/local/lib/python3.6/dist-packages (from requests->smart-open>=1.8.1->gensim) (3.0.4)\n",
            "Installing collected packages: gensim\n",
            "  Found existing installation: gensim 3.6.0\n",
            "    Uninstalling gensim-3.6.0:\n",
            "      Successfully uninstalled gensim-3.6.0\n",
            "Successfully installed gensim-3.8.3\n"
          ],
          "name": "stdout"
        }
      ]
    },
    {
      "cell_type": "code",
      "metadata": {
        "id": "i5mlNEaBzxJI"
      },
      "source": [
        ""
      ],
      "execution_count": 44,
      "outputs": []
    },
    {
      "cell_type": "code",
      "metadata": {
        "id": "WYhJ533r2mCy",
        "outputId": "bb346916-1385-4075-e0bf-ecec53807372",
        "colab": {
          "base_uri": "https://localhost:8080/",
          "height": 204
        }
      },
      "source": [
        "!wget https://s3.amazonaws.com/dl4j-distribution/GoogleNews-vectors-negative300.bin.gz"
      ],
      "execution_count": 45,
      "outputs": [
        {
          "output_type": "stream",
          "text": [
            "--2020-10-16 14:45:06--  https://s3.amazonaws.com/dl4j-distribution/GoogleNews-vectors-negative300.bin.gz\n",
            "Resolving s3.amazonaws.com (s3.amazonaws.com)... 52.217.65.102\n",
            "Connecting to s3.amazonaws.com (s3.amazonaws.com)|52.217.65.102|:443... connected.\n",
            "HTTP request sent, awaiting response... 200 OK\n",
            "Length: 1647046227 (1.5G) [application/x-gzip]\n",
            "Saving to: ‘GoogleNews-vectors-negative300.bin.gz’\n",
            "\n",
            "GoogleNews-vectors- 100%[===================>]   1.53G  95.9MB/s    in 16s     \n",
            "\n",
            "2020-10-16 14:45:22 (95.5 MB/s) - ‘GoogleNews-vectors-negative300.bin.gz’ saved [1647046227/1647046227]\n",
            "\n"
          ],
          "name": "stdout"
        }
      ]
    },
    {
      "cell_type": "markdown",
      "metadata": {
        "id": "GGU8vAp9230n"
      },
      "source": [
        "**Step 2: Load the necessary modules**"
      ]
    },
    {
      "cell_type": "code",
      "metadata": {
        "id": "jqYDk28G28SO"
      },
      "source": [
        "from gensim.models import KeyedVectors\n",
        "import numpy as np"
      ],
      "execution_count": 46,
      "outputs": []
    },
    {
      "cell_type": "markdown",
      "metadata": {
        "id": "5MxS5W3R3BDM"
      },
      "source": [
        "**Step 3: Load the pre-trained representations**"
      ]
    },
    {
      "cell_type": "code",
      "metadata": {
        "id": "f7ZFGoai3J3_"
      },
      "source": [
        "word2vec = KeyedVectors.load_word2vec_format(\"GoogleNews-vectors-negative300.bin.gz\", binary=True)"
      ],
      "execution_count": 47,
      "outputs": []
    },
    {
      "cell_type": "markdown",
      "metadata": {
        "id": "Yz7Ug8A53SzV"
      },
      "source": [
        "**Step 4: Define a feature extractor**"
      ]
    },
    {
      "cell_type": "code",
      "metadata": {
        "id": "UtKz6NKc3bsP"
      },
      "source": [
        "def extract_features(text):\n",
        "  words = [word for word in text.split() if word in word2vec.vocab]\n",
        "  return np.mean(word2vec[words], axis=0)"
      ],
      "execution_count": 48,
      "outputs": []
    },
    {
      "cell_type": "markdown",
      "metadata": {
        "id": "E4aChwZV3-vT"
      },
      "source": [
        "**Step 5: Test the feature extractor**"
      ]
    },
    {
      "cell_type": "code",
      "metadata": {
        "id": "z3OnxmKj4CRD"
      },
      "source": [
        "text = \"This is a cat\"\n",
        "text_embedding = extract_features(text)\n",
        "# text_embedding\n",
        "# print (\"Shape of embedding: \", text_embedding.shape)"
      ],
      "execution_count": 49,
      "outputs": []
    },
    {
      "cell_type": "code",
      "metadata": {
        "id": "NdffnqR-0Ew_"
      },
      "source": [
        "train_embedding = []\n",
        "for tweet in train['Tweet']:\n",
        "  # print(tweet)\n",
        "  try:\n",
        "    tweet_embed = extract_features(tweet)\n",
        "    train_embedding.append(tweet_embed)\n",
        "  except:\n",
        "    pass\n",
        "\n",
        "\n",
        "\n"
      ],
      "execution_count": 50,
      "outputs": []
    },
    {
      "cell_type": "code",
      "metadata": {
        "id": "UQp9ZW_Y_7lF"
      },
      "source": [
        "train_vector = np.asarray(train_embedding)"
      ],
      "execution_count": 51,
      "outputs": []
    },
    {
      "cell_type": "code",
      "metadata": {
        "id": "8z2dkIUbCM95"
      },
      "source": [
        "test_embedding = []\n",
        "for test_tweet in test['Tweet']:\n",
        "  try:\n",
        "    test_embed = extract_features(test_tweet)\n",
        "    test_embedding.append(test_embed)\n",
        "  except:\n",
        "    pass\n"
      ],
      "execution_count": 52,
      "outputs": []
    },
    {
      "cell_type": "code",
      "metadata": {
        "id": "wNlBKSPKChgU"
      },
      "source": [
        "test_vector = np.asarray(test_embedding)"
      ],
      "execution_count": 53,
      "outputs": []
    },
    {
      "cell_type": "code",
      "metadata": {
        "id": "_gXuuCeuCpwt"
      },
      "source": [
        "# print(train_vector.shape)\n",
        "# print(test_vector.shape)"
      ],
      "execution_count": 54,
      "outputs": []
    },
    {
      "cell_type": "code",
      "metadata": {
        "id": "nDjuTrKMCvd-",
        "outputId": "4ee6ce51-9eb4-4d55-fa40-6edab9dd5de7",
        "colab": {
          "base_uri": "https://localhost:8080/",
          "height": 867
        }
      },
      "source": [
        "k_values = [1,3,5,7,10]\n",
        "test_data =  part1(test_vector,train_vector)\n",
        "accuraccy_list, precision_list, recall_list,f1_list = evaluate(k_values,test_data)\n",
        "\n",
        "p3_df = pd.DataFrame()\n",
        "p3_df['K-values'] = k_values\n",
        "p3_df['Accuraccy'] = accuraccy_list\n",
        "p3_df['Precision'] = precision_list\n",
        "p3_df['Recall'] = recall_list\n",
        "p3_df['F1-Score'] = f1_list"
      ],
      "execution_count": 55,
      "outputs": [
        {
          "output_type": "stream",
          "text": [
            "Running for K:  1\n",
            "Running for K:  3\n",
            "Running for K:  5\n",
            "Running for K:  7\n",
            "Running for K:  10\n",
            "\n",
            "For K = 1: \n",
            "Classification Accuracy:  0.5296131461828141\n",
            "Macro Avergae Precision:  0.3534120495550559\n",
            "Macro Avergae recall:  0.3543098249264289\n",
            "Macro Avergae f1_score:  0.35386036780757485\n",
            "Confusion Matrix (tp,fp,fn,tn):  [('negative', 1127, 647, 707, 440), ('neutral', 152, 496, 463, 1810), ('positive', 95, 404, 377, 2045)]\n",
            "\n",
            "\n",
            "\n",
            "For K = 3: \n",
            "Classification Accuracy:  0.4755220814789456\n",
            "Macro Avergae Precision:  0.3646801762605532\n",
            "Macro Avergae recall:  0.35910749029490924\n",
            "Macro Avergae f1_score:  0.36187238028101226\n",
            "Confusion Matrix (tp,fp,fn,tn):  [('negative', 1340, 746, 494, 341), ('neutral', 122, 365, 493, 1941), ('positive', 70, 278, 402, 2171)]\n",
            "\n",
            "\n",
            "\n",
            "For K = 5: \n",
            "Classification Accuracy:  0.44813420061622733\n",
            "Macro Avergae Precision:  0.3569998837419193\n",
            "Macro Avergae recall:  0.3492358648241307\n",
            "Macro Avergae f1_score:  0.3530751973229036\n",
            "Confusion Matrix (tp,fp,fn,tn):  [('negative', 1475, 837, 359, 250), ('neutral', 95, 282, 520, 2024), ('positive', 42, 190, 430, 2259)]\n",
            "\n",
            "\n",
            "\n",
            "For K = 7: \n",
            "Classification Accuracy:  0.4176651831564533\n",
            "Macro Avergae Precision:  0.3698632241607684\n",
            "Macro Avergae recall:  0.35410653783080726\n",
            "Macro Avergae f1_score:  0.3618134144669801\n",
            "Confusion Matrix (tp,fp,fn,tn):  [('negative', 1589, 883, 245, 204), ('neutral', 84, 212, 531, 2094), ('positive', 28, 125, 444, 2324)]\n",
            "\n",
            "\n",
            "\n",
            "For K = 10: \n",
            "Classification Accuracy:  0.3954125299554947\n",
            "Macro Avergae Precision:  0.3923009758994924\n",
            "Macro Avergae recall:  0.3530468081883562\n",
            "Macro Avergae f1_score:  0.37164022043746764\n",
            "Confusion Matrix (tp,fp,fn,tn):  [('negative', 1687, 947, 147, 140), ('neutral', 57, 142, 558, 2164), ('positive', 22, 66, 450, 2383)]\n",
            "\n",
            "\n"
          ],
          "name": "stdout"
        }
      ]
    },
    {
      "cell_type": "code",
      "metadata": {
        "id": "b3QFF3qdJ184",
        "outputId": "67facf6e-eb0c-4bb5-c49f-e699f612a349",
        "colab": {
          "base_uri": "https://localhost:8080/",
          "height": 204
        }
      },
      "source": [
        "p3_df.head()"
      ],
      "execution_count": 56,
      "outputs": [
        {
          "output_type": "execute_result",
          "data": {
            "text/html": [
              "<div>\n",
              "<style scoped>\n",
              "    .dataframe tbody tr th:only-of-type {\n",
              "        vertical-align: middle;\n",
              "    }\n",
              "\n",
              "    .dataframe tbody tr th {\n",
              "        vertical-align: top;\n",
              "    }\n",
              "\n",
              "    .dataframe thead th {\n",
              "        text-align: right;\n",
              "    }\n",
              "</style>\n",
              "<table border=\"1\" class=\"dataframe\">\n",
              "  <thead>\n",
              "    <tr style=\"text-align: right;\">\n",
              "      <th></th>\n",
              "      <th>K-values</th>\n",
              "      <th>Accuraccy</th>\n",
              "      <th>Precision</th>\n",
              "      <th>Recall</th>\n",
              "      <th>F1-Score</th>\n",
              "    </tr>\n",
              "  </thead>\n",
              "  <tbody>\n",
              "    <tr>\n",
              "      <th>0</th>\n",
              "      <td>1</td>\n",
              "      <td>0.529613</td>\n",
              "      <td>0.353412</td>\n",
              "      <td>0.354310</td>\n",
              "      <td>0.353860</td>\n",
              "    </tr>\n",
              "    <tr>\n",
              "      <th>1</th>\n",
              "      <td>3</td>\n",
              "      <td>0.475522</td>\n",
              "      <td>0.364680</td>\n",
              "      <td>0.359107</td>\n",
              "      <td>0.361872</td>\n",
              "    </tr>\n",
              "    <tr>\n",
              "      <th>2</th>\n",
              "      <td>5</td>\n",
              "      <td>0.448134</td>\n",
              "      <td>0.357000</td>\n",
              "      <td>0.349236</td>\n",
              "      <td>0.353075</td>\n",
              "    </tr>\n",
              "    <tr>\n",
              "      <th>3</th>\n",
              "      <td>7</td>\n",
              "      <td>0.417665</td>\n",
              "      <td>0.369863</td>\n",
              "      <td>0.354107</td>\n",
              "      <td>0.361813</td>\n",
              "    </tr>\n",
              "    <tr>\n",
              "      <th>4</th>\n",
              "      <td>10</td>\n",
              "      <td>0.395413</td>\n",
              "      <td>0.392301</td>\n",
              "      <td>0.353047</td>\n",
              "      <td>0.371640</td>\n",
              "    </tr>\n",
              "  </tbody>\n",
              "</table>\n",
              "</div>"
            ],
            "text/plain": [
              "   K-values  Accuraccy  Precision    Recall  F1-Score\n",
              "0         1   0.529613   0.353412  0.354310  0.353860\n",
              "1         3   0.475522   0.364680  0.359107  0.361872\n",
              "2         5   0.448134   0.357000  0.349236  0.353075\n",
              "3         7   0.417665   0.369863  0.354107  0.361813\n",
              "4        10   0.395413   0.392301  0.353047  0.371640"
            ]
          },
          "metadata": {
            "tags": []
          },
          "execution_count": 56
        }
      ]
    },
    {
      "cell_type": "code",
      "metadata": {
        "id": "p-7wHY9YhvjT",
        "outputId": "3ea836f0-18a5-48ea-df42-b72b2991bb59",
        "colab": {
          "base_uri": "https://localhost:8080/",
          "height": 466
        }
      },
      "source": [
        "p3_df = plotting_part1(p3_df)\n",
        "p3_df.head()"
      ],
      "execution_count": 57,
      "outputs": [
        {
          "output_type": "display_data",
          "data": {
            "image/png": "[encoded data removed]",
            "text/plain": [
              "<Figure size 432x288 with 1 Axes>"
            ]
          },
          "metadata": {
            "tags": [],
            "needs_background": "light"
          }
        },
        {
          "output_type": "execute_result",
          "data": {
            "text/html": [
              "<div>\n",
              "<style scoped>\n",
              "    .dataframe tbody tr th:only-of-type {\n",
              "        vertical-align: middle;\n",
              "    }\n",
              "\n",
              "    .dataframe tbody tr th {\n",
              "        vertical-align: top;\n",
              "    }\n",
              "\n",
              "    .dataframe thead th {\n",
              "        text-align: right;\n",
              "    }\n",
              "</style>\n",
              "<table border=\"1\" class=\"dataframe\">\n",
              "  <thead>\n",
              "    <tr style=\"text-align: right;\">\n",
              "      <th></th>\n",
              "      <th>K-values</th>\n",
              "      <th>Accuraccy</th>\n",
              "      <th>Precision</th>\n",
              "      <th>Recall</th>\n",
              "      <th>F1-Score</th>\n",
              "      <th>Macro-F1</th>\n",
              "    </tr>\n",
              "  </thead>\n",
              "  <tbody>\n",
              "    <tr>\n",
              "      <th>0</th>\n",
              "      <td>1</td>\n",
              "      <td>0.529613</td>\n",
              "      <td>0.353412</td>\n",
              "      <td>0.354310</td>\n",
              "      <td>0.353860</td>\n",
              "      <td>0.353860</td>\n",
              "    </tr>\n",
              "    <tr>\n",
              "      <th>1</th>\n",
              "      <td>3</td>\n",
              "      <td>0.475522</td>\n",
              "      <td>0.364680</td>\n",
              "      <td>0.359107</td>\n",
              "      <td>0.361872</td>\n",
              "      <td>0.361872</td>\n",
              "    </tr>\n",
              "    <tr>\n",
              "      <th>2</th>\n",
              "      <td>5</td>\n",
              "      <td>0.448134</td>\n",
              "      <td>0.357000</td>\n",
              "      <td>0.349236</td>\n",
              "      <td>0.353075</td>\n",
              "      <td>0.353075</td>\n",
              "    </tr>\n",
              "    <tr>\n",
              "      <th>3</th>\n",
              "      <td>7</td>\n",
              "      <td>0.417665</td>\n",
              "      <td>0.369863</td>\n",
              "      <td>0.354107</td>\n",
              "      <td>0.361813</td>\n",
              "      <td>0.361813</td>\n",
              "    </tr>\n",
              "    <tr>\n",
              "      <th>4</th>\n",
              "      <td>10</td>\n",
              "      <td>0.395413</td>\n",
              "      <td>0.392301</td>\n",
              "      <td>0.353047</td>\n",
              "      <td>0.371640</td>\n",
              "      <td>0.371640</td>\n",
              "    </tr>\n",
              "  </tbody>\n",
              "</table>\n",
              "</div>"
            ],
            "text/plain": [
              "   K-values  Accuraccy  Precision    Recall  F1-Score  Macro-F1\n",
              "0         1   0.529613   0.353412  0.354310  0.353860  0.353860\n",
              "1         3   0.475522   0.364680  0.359107  0.361872  0.361872\n",
              "2         5   0.448134   0.357000  0.349236  0.353075  0.353075\n",
              "3         7   0.417665   0.369863  0.354107  0.361813  0.361813\n",
              "4        10   0.395413   0.392301  0.353047  0.371640  0.371640"
            ]
          },
          "metadata": {
            "tags": []
          },
          "execution_count": 57
        }
      ]
    },
    {
      "cell_type": "markdown",
      "metadata": {
        "id": "Ns8PBs0TlwtJ"
      },
      "source": [
        "**Running Part 2**"
      ]
    },
    {
      "cell_type": "code",
      "metadata": {
        "id": "gYOpv07SkDo6",
        "outputId": "fb1ef6fe-8752-45d3-e090-a6830aac5475",
        "colab": {
          "base_uri": "https://localhost:8080/",
          "height": 102
        }
      },
      "source": [
        "temp_df_3 = part2(X_train,y_train,X_test,y_test)\n",
        " "
      ],
      "execution_count": 58,
      "outputs": [
        {
          "output_type": "stream",
          "text": [
            "Running For K = : 1\n",
            "Running For K = : 3\n",
            "Running For K = : 5\n",
            "Running For K = : 7\n",
            "Running For K = : 10\n"
          ],
          "name": "stdout"
        }
      ]
    },
    {
      "cell_type": "code",
      "metadata": {
        "id": "lhvyyKYNlukj",
        "outputId": "d92d4d56-bb5d-48b6-e0de-85ac6d9b98a2",
        "colab": {
          "base_uri": "https://localhost:8080/",
          "height": 280
        }
      },
      "source": [
        "plotting_part2(temp_df_3)"
      ],
      "execution_count": 59,
      "outputs": [
        {
          "output_type": "display_data",
          "data": {
            "image/png": "[encoded data removed]",
            "text/plain": [
              "<Figure size 432x288 with 1 Axes>"
            ]
          },
          "metadata": {
            "tags": [],
            "needs_background": "light"
          }
        }
      ]
    },
    {
      "cell_type": "code",
      "metadata": {
        "id": "PzBUIKc1Ipbh",
        "outputId": "5eda244a-4f7e-4e28-e6a1-cb32da1f248a",
        "colab": {
          "base_uri": "https://localhost:8080/",
          "height": 204
        }
      },
      "source": [
        "temp_df_3.head()"
      ],
      "execution_count": 60,
      "outputs": [
        {
          "output_type": "execute_result",
          "data": {
            "text/html": [
              "<div>\n",
              "<style scoped>\n",
              "    .dataframe tbody tr th:only-of-type {\n",
              "        vertical-align: middle;\n",
              "    }\n",
              "\n",
              "    .dataframe tbody tr th {\n",
              "        vertical-align: top;\n",
              "    }\n",
              "\n",
              "    .dataframe thead th {\n",
              "        text-align: right;\n",
              "    }\n",
              "</style>\n",
              "<table border=\"1\" class=\"dataframe\">\n",
              "  <thead>\n",
              "    <tr style=\"text-align: right;\">\n",
              "      <th></th>\n",
              "      <th>K_values</th>\n",
              "      <th>Acuuracies</th>\n",
              "      <th>Precision</th>\n",
              "      <th>Recall</th>\n",
              "      <th>F1-Score</th>\n",
              "    </tr>\n",
              "  </thead>\n",
              "  <tbody>\n",
              "    <tr>\n",
              "      <th>0</th>\n",
              "      <td>1</td>\n",
              "      <td>0.515235</td>\n",
              "      <td>0.533104</td>\n",
              "      <td>0.554226</td>\n",
              "      <td>0.502760</td>\n",
              "    </tr>\n",
              "    <tr>\n",
              "      <th>1</th>\n",
              "      <td>3</td>\n",
              "      <td>0.526532</td>\n",
              "      <td>0.543322</td>\n",
              "      <td>0.570814</td>\n",
              "      <td>0.518356</td>\n",
              "    </tr>\n",
              "    <tr>\n",
              "      <th>2</th>\n",
              "      <td>5</td>\n",
              "      <td>0.508045</td>\n",
              "      <td>0.546247</td>\n",
              "      <td>0.558531</td>\n",
              "      <td>0.501738</td>\n",
              "    </tr>\n",
              "    <tr>\n",
              "      <th>3</th>\n",
              "      <td>7</td>\n",
              "      <td>0.465936</td>\n",
              "      <td>0.515078</td>\n",
              "      <td>0.527360</td>\n",
              "      <td>0.459784</td>\n",
              "    </tr>\n",
              "    <tr>\n",
              "      <th>4</th>\n",
              "      <td>10</td>\n",
              "      <td>0.450873</td>\n",
              "      <td>0.513265</td>\n",
              "      <td>0.531686</td>\n",
              "      <td>0.449460</td>\n",
              "    </tr>\n",
              "  </tbody>\n",
              "</table>\n",
              "</div>"
            ],
            "text/plain": [
              "   K_values  Acuuracies  Precision    Recall  F1-Score\n",
              "0         1    0.515235   0.533104  0.554226  0.502760\n",
              "1         3    0.526532   0.543322  0.570814  0.518356\n",
              "2         5    0.508045   0.546247  0.558531  0.501738\n",
              "3         7    0.465936   0.515078  0.527360  0.459784\n",
              "4        10    0.450873   0.513265  0.531686  0.449460"
            ]
          },
          "metadata": {
            "tags": []
          },
          "execution_count": 60
        }
      ]
    },
    {
      "cell_type": "code",
      "metadata": {
        "id": "y0LfqbITlDZ4"
      },
      "source": [
        ""
      ],
      "execution_count": null,
      "outputs": []
    }
  ]
}