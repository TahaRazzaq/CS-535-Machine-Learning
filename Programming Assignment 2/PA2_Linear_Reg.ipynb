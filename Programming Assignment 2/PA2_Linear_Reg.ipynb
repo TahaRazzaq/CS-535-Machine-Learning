{
  "nbformat": 4,
  "nbformat_minor": 0,
  "metadata": {
    "kernelspec": {
      "display_name": "Python 3",
      "language": "python",
      "name": "python3"
    },
    "language_info": {
      "codemirror_mode": {
        "name": "ipython",
        "version": 3
      },
      "file_extension": ".py",
      "mimetype": "text/x-python",
      "name": "python",
      "nbconvert_exporter": "python",
      "pygments_lexer": "ipython3",
      "version": "3.7.5"
    },
    "colab": {
      "name": "Linear_Regression.ipynb",
      "provenance": [],
      "collapsed_sections": []
    }
  },
  "cells": [
    {
      "cell_type": "markdown",
      "metadata": {
        "id": "ugxRm5xJUeQL"
      },
      "source": [
        "# Programming Assignment 2: Linear Regression\n",
        "\n",
        "## Instructions\n",
        "\n",
        "- The aim of this assignment is to give you a hands-on with a real-life machine learning application.\n",
        "- Use separate training, and testing data as discussed in class.\n",
        "- You can only use Python programming language and Jupyter Notebooks.\n",
        "- There are three parts of this assignment. In parts 1 & 2, you can only use **numpy, scipy, pandas, matplotlib and are not allowed to use NLTK, scikit-learn or any other machine learning toolkit**. However, you have to use **scikit-learn** in part 3.\n",
        "- Carefully read the submission instructions, plagiarism and late days policy below.\n",
        "- Deadline to submit this assignment is: **Friday, 30th October 2020**.\n",
        "\n",
        "## Submission Instructions\n",
        "\n",
        "Submit your code both as notebook file (.ipynb) and python script (.py) on LMS. The name of both files should be your roll number. If you don’t know how to save .ipynb as .py [see this](https://i.stack.imgur.com/L1rQH.png). **Failing to submit any one of them will result in the reduction of marks**.\n",
        "\n",
        "## Plagiarism Policy\n",
        "\n",
        "The code MUST be done independently. Any plagiarism or cheating of work from others or the internet will be immediately referred to the DC. If you are confused about what constitutes plagiarism, it is YOUR responsibility to consult with the instructor or the TA in a timely manner. No “after the fact” negotiations will be possible. The only way to guarantee that you do not lose marks is “DO NOT LOOK AT ANYONE ELSE'S CODE NOR DISCUSS IT WITH THEM”.\n",
        "\n",
        "## Late Days Policy\n",
        "\n",
        "The deadline of the assignment is final. However, in order to accommodate all the 11th hour issues there is a late submission policy i.e. you can submit your assignment within 3 days after the deadline with 25% deduction each day.\n",
        "\n",
        "\n",
        "## Introduction\n",
        "\n",
        "In this exercise, you will implement linear regression and get to see it work on data. After completing this assignment, you will know:\n",
        "- How to implement linear regression from scratch.\n",
        "- How to estimate linear regression parameters using gradient descent.\n",
        "- How to make predictions on new data using learned parameters.\n",
        "\n",
        "Let's start with the necessary imports."
      ]
    },
    {
      "cell_type": "code",
      "metadata": {
        "id": "uuk98L0KUeQQ"
      },
      "source": [
        "import os\n",
        "import numpy as np\n",
        "import pandas as pd\n",
        "from matplotlib import pyplot\n",
        "import matplotlib.pyplot as plt\n",
        "%matplotlib inline"
      ],
      "execution_count": 1,
      "outputs": []
    },
    {
      "cell_type": "markdown",
      "metadata": {
        "id": "pUAOjtv7UeQs"
      },
      "source": [
        "## 1. Linear Regression with one variable\n",
        "\n",
        "Linear regression assumes a linear relationship between the input variables (X) and the single output variable (Y). More specifically, that output (Y) can be calculated from a linear combination of the input variables (X). When there is a single input variable, the method is referred to as a simple linear regression.\n",
        "\n",
        "Now you will implement simple linear regression to predict profits for a food truck. Suppose you are the CEO of a restaurant franchise and are considering different cities for opening a new outlet. The chain already has trucks in various cities and you have data for profits and populations from the cities. You would like to use this data to help you select which city to expand to next."
      ]
    },
    {
      "cell_type": "markdown",
      "metadata": {
        "id": "VzXy4EibUeQv"
      },
      "source": [
        "### 1.1 Load the dataset\n",
        "\n",
        "The file `Data/ex1data1.txt` contains the dataset for our linear regression problem. The first column is the population of a city (in 10,000s) and the second column is the profit of a food truck in that city (in $10,000s). A negative value for profit indicates a loss. \n",
        "\n",
        "We provide you with the code needed to load this data. The dataset is loaded from the data file into the variables `X` and `Y`."
      ]
    },
    {
      "cell_type": "code",
      "metadata": {
        "id": "6K8Eta3mWnvB",
        "outputId": "76dffbd0-9751-4ec7-cdd0-04f4abb2e0d4",
        "colab": {
          "base_uri": "https://localhost:8080/",
          "height": 35
        }
      },
      "source": [
        "from google.colab import drive\n",
        "drive.mount('/content/drive')"
      ],
      "execution_count": 2,
      "outputs": [
        {
          "output_type": "stream",
          "text": [
            "Drive already mounted at /content/drive; to attempt to forcibly remount, call drive.mount(\"/content/drive\", force_remount=True).\n"
          ],
          "name": "stdout"
        }
      ]
    },
    {
      "cell_type": "code",
      "metadata": {
        "id": "buRdnjhdUeQx"
      },
      "source": [
        "# data = np.loadtxt(os.path.join('Data', 'ex1data.txt'), delimiter=',')\n",
        "data = np.loadtxt('/content/drive/My Drive/Machine Learning Fall 2020/Data/ex1data.txt', delimiter=',')\n",
        "X, Y = data[:, 0], data[:, 1]"
      ],
      "execution_count": 3,
      "outputs": []
    },
    {
      "cell_type": "markdown",
      "metadata": {
        "id": "RwRHvpEVUeRP"
      },
      "source": [
        "### 1.2 Plot the dataset\n",
        "Before starting on any task, it is often useful to understand the data by visualizing it. For this dataset, you can use a scatter plot to visualize the data, since it has only two properties to plot (profit and population). Execute the next cell to visualize the data."
      ]
    },
    {
      "cell_type": "code",
      "metadata": {
        "id": "nlBVX2wrUeRR",
        "outputId": "45cf0d6b-3a87-4ade-ca58-bd359c4fb81b",
        "colab": {
          "base_uri": "https://localhost:8080/",
          "height": 298
        }
      },
      "source": [
        "pyplot.plot(X, Y, 'ro', ms=10, mec='k')\n",
        "pyplot.ylabel('Profit in $10,000')\n",
        "pyplot.xlabel('Population of City in 10,000s')"
      ],
      "execution_count": 4,
      "outputs": [
        {
          "output_type": "execute_result",
          "data": {
            "text/plain": [
              "Text(0.5, 0, 'Population of City in 10,000s')"
            ]
          },
          "metadata": {
            "tags": []
          },
          "execution_count": 4
        },
        {
          "output_type": "display_data",
          "data": {
            "image/png": "[encoded data removed]",
            "text/plain": [
              "<Figure size 432x288 with 1 Axes>"
            ]
          },
          "metadata": {
            "tags": [],
            "needs_background": "light"
          }
        }
      ]
    },
    {
      "cell_type": "markdown",
      "metadata": {
        "id": "NbfWp2LWUeRn"
      },
      "source": [
        "### 1.3 Learn the parameters\n",
        "In this part, you will fit the linear regression parameters $\\theta$ to the food truck dataset using gradient descent.\n",
        "\n",
        "The objective of linear regression is to minimize the cost function\n",
        "\n",
        "$$ J(\\theta) = \\frac{1}{2m} \\sum_{i=1}^m \\left( h_{\\theta}(x^{(i)}) - y^{(i)}\\right)^2 ------ (i)$$ \n",
        "\n",
        "where the hypothesis $h_\\theta(x)$ is given by the linear model\n",
        "$$ h_\\theta(x) = \\theta_0 + \\theta_1 x ------ (ii)$$\n",
        "\n",
        "The parameters of your model are the $\\theta_j$ values. These are\n",
        "the values you will adjust to minimize cost $J(\\theta)$. One way to do this is to\n",
        "use the batch gradient descent algorithm. In batch gradient descent, each\n",
        "iteration performs the update\n",
        "\n",
        "$$ \\theta_0 = \\theta_0 - \\alpha \\frac{1}{m} \\sum_{i=1}^m \\left( h_\\theta(x^{(i)}) - y^{(i)}\\right) ------ (iii)$$\n",
        "\n",
        "$$ \\theta_1 = \\theta_1 - \\alpha \\frac{1}{m} \\sum_{i=1}^m \\left( h_\\theta(x^{(i)}) - y^{(i)}\\right)x^{(i)} ------ (iv)$$\n",
        "\n",
        "With each step of gradient descent, your parameters $\\theta_j$ come closer to the optimal values that will achieve the lowest cost J($\\theta$).\n",
        "\n",
        "Let's start by implementing the hypothesis $h_\\theta(x)$."
      ]
    },
    {
      "cell_type": "code",
      "metadata": {
        "id": "i6H9UQCoUeRr"
      },
      "source": [
        "### GRADED FUNCTION ###\n",
        "def predict(x, theta0, theta1):\n",
        "    '''\n",
        "    Calculates the hypothesis for any input sample `x` given the parameters `theta`.\n",
        "    \n",
        "    Arguments\n",
        "    ---------\n",
        "    x : float\n",
        "        The input sample.\n",
        "    \n",
        "    theta0 : float\n",
        "        The parameter for the regression function.\n",
        "        \n",
        "    theta1 : float\n",
        "        The parameter for the regression function.\n",
        "    \n",
        "    Returns\n",
        "    -------\n",
        "    h_x : float\n",
        "        The hypothesis for input sample.\n",
        "    \n",
        "    Hint(s)\n",
        "    -------\n",
        "    Compute equation (ii).\n",
        "    '''\n",
        "    # You need to return the following variable(s) correctly\n",
        "    h_x = 0.0\n",
        "    \n",
        "    ### START CODE HERE ### (≈ 1 line of code)\n",
        "    h_x = theta0 + theta1*(x)\n",
        "    \n",
        "    ### END CODE HERE ###\n",
        "    \n",
        "    return h_x"
      ],
      "execution_count": 5,
      "outputs": []
    },
    {
      "cell_type": "markdown",
      "metadata": {
        "id": "2PpdgNo7UeSM"
      },
      "source": [
        "Execute the next cell to verify your implementation."
      ]
    },
    {
      "cell_type": "code",
      "metadata": {
        "id": "tZFsPQY4UeSO",
        "outputId": "60b0f55a-4a63-467b-d225-2b05e71069f6",
        "colab": {
          "base_uri": "https://localhost:8080/",
          "height": 90
        }
      },
      "source": [
        "h_x = predict(x=2, theta0=1.0, theta1=1.0)\n",
        "print('With x = 2, theta0 = 1.0, theta1 = 1.0\\nPredicted Hypothesis h(x) = %.2f' % h_x)\n",
        "print(\"Expected hypothesis h(x) = 3.00\\n\")"
      ],
      "execution_count": 6,
      "outputs": [
        {
          "output_type": "stream",
          "text": [
            "With x = 2, theta0 = 1.0, theta1 = 1.0\n",
            "Predicted Hypothesis h(x) = 3.00\n",
            "Expected hypothesis h(x) = 3.00\n",
            "\n"
          ],
          "name": "stdout"
        }
      ]
    },
    {
      "cell_type": "markdown",
      "metadata": {
        "id": "cqJck6n-UeSl"
      },
      "source": [
        "As you perform gradient descent to learn minimize the cost function  $J(\\theta)$, it is helpful to monitor the convergence by computing the cost. In this section, you will implement a function to calculate  $J(\\theta)$ so you can check the convergence of your gradient descent implementation."
      ]
    },
    {
      "cell_type": "code",
      "metadata": {
        "id": "HNITBvX5UeSn"
      },
      "source": [
        "### GRADED FUNCTION ###\n",
        "def computeCost(X, Y, theta0, theta1):\n",
        "    '''\n",
        "    Computes cost for linear regression. Computes the cost of using `theta` as the\n",
        "    parameter for linear regression to fit the data points in `X` and `Y`.\n",
        "    \n",
        "    Arguments\n",
        "    ---------\n",
        "    X : array\n",
        "        The input dataset of shape (m, ), where m is the number of training examples.\n",
        "    \n",
        "    Y : array\n",
        "        The values of the function at each data point. This is a vector of\n",
        "        shape (m, ), where m is the number of training examples.\n",
        "    \n",
        "    theta0 : float\n",
        "        The parameter for the regression function.\n",
        "        \n",
        "    theta1 : float\n",
        "        The parameter for the regression function.\n",
        "    \n",
        "    Returns\n",
        "    -------\n",
        "    J : float\n",
        "        The value of the regression cost function.\n",
        "    \n",
        "    Hint(s)\n",
        "    -------\n",
        "    Compute equation (i).\n",
        "    '''\n",
        "    # initialize some useful values\n",
        "    m = Y.size  # number of training examples\n",
        "    \n",
        "    # You need to return the following variable(s) correctly\n",
        "    J = 0\n",
        "        \n",
        "    ### START CODE HERE ### (≈ 3-4 lines of code)\n",
        "    temp = 0\n",
        "    for i in range(m):\n",
        "      hx = predict(X[i],theta0,theta1)\n",
        "      value = hx - Y[i]\n",
        "      temp  = temp + value**2\n",
        "    J = (1/(2*m))*temp\n",
        "        \n",
        "    \n",
        "    \n",
        "    ### END CODE HERE ###\n",
        "    \n",
        "    return J"
      ],
      "execution_count": 7,
      "outputs": []
    },
    {
      "cell_type": "markdown",
      "metadata": {
        "id": "OYjUmCKvUeTZ"
      },
      "source": [
        "Execute the next cell to verify your implementation."
      ]
    },
    {
      "cell_type": "code",
      "metadata": {
        "id": "lQHGRsA9UeTa",
        "outputId": "82b61857-4ba0-4991-e606-5af59eef7418",
        "colab": {
          "base_uri": "https://localhost:8080/",
          "height": 90
        }
      },
      "source": [
        "J = computeCost(X, Y, theta0=1.0, theta1=1.0)\n",
        "print('With theta0 = 1.0, theta1 = 1.0\\nPredicted cost J = %.2f' % J)\n",
        "print(\"Expected cost J = 10.27\\n\")"
      ],
      "execution_count": 8,
      "outputs": [
        {
          "output_type": "stream",
          "text": [
            "With theta0 = 1.0, theta1 = 1.0\n",
            "Predicted cost J = 10.27\n",
            "Expected cost J = 10.27\n",
            "\n"
          ],
          "name": "stdout"
        }
      ]
    },
    {
      "cell_type": "markdown",
      "metadata": {
        "id": "A8SZwA3xUeTq"
      },
      "source": [
        "Next, you will complete a function which implements gradient descent. The loop structure has been written for you, and you only need to supply the updates to parameters $\\theta_j$  within each iteration (epoch). \n",
        "\n",
        "The starter code for the function `gradientDescent` calls `computeCost` on every iteration and saves the cost to a `python` list. Assuming you have implemented `gradientDescent` and `computeCost` correctly, your value of $J(\\theta)$ should never increase, and should converge to a steady value by the end of the algorithm."
      ]
    },
    {
      "cell_type": "code",
      "metadata": {
        "id": "MMp8HnbdUeTz"
      },
      "source": [
        "### GRADED FUNCTION ###\n",
        "def gradientDescent(X, Y, alpha, n_epoch):\n",
        "    \"\"\"\n",
        "    Performs gradient descent to learn `theta`. Updates `theta` by taking `n_epoch`\n",
        "    gradient steps with learning rate `alpha`.\n",
        "    \n",
        "    Arguments\n",
        "    ---------\n",
        "    X : array\n",
        "        The input dataset of shape (m, ), where m is the number of training examples.\n",
        "    \n",
        "    Y : array\n",
        "        The values of the function at each data point. This is a vector of\n",
        "        shape (m, ), where m is the number of training examples.\n",
        "    \n",
        "    alpha : float\n",
        "        The learning rate.\n",
        "    \n",
        "    n_epoch : int\n",
        "        The number of iterations for gradient descent. \n",
        "    \n",
        "    Returns\n",
        "    -------\n",
        "    theta0 : float\n",
        "        The parameter for the regression function.\n",
        "        \n",
        "    theta1 : float\n",
        "        The parameter for the regression function.\n",
        "    \n",
        "    J : list\n",
        "        A python list for the values of the cost function after each iteration.\n",
        "    \n",
        "    Hint(s)\n",
        "    -------\n",
        "    Compute equation (iii) and (iv).\n",
        "\n",
        "    While debugging, it can be useful to print out the values of \n",
        "    the cost function (computeCost) here.\n",
        "    \"\"\"\n",
        "    # initialize some useful values\n",
        "    m = Y.size  # number of training examples\n",
        "    J = list()  # list to store cost\n",
        "    \n",
        "    # You need to return the following variables correctly\n",
        "    theta0 = 0.0\n",
        "    theta1 = 0.0\n",
        "    \n",
        "    for epoch in range(n_epoch):\n",
        "\n",
        "        ### START CODE HERE ### (≈ 5-10 lines of code)\n",
        "      temp_0 = 0\n",
        "      for i in range(m):\n",
        "        hx = predict(X[i],theta0,theta1)\n",
        "        value = hx - Y[i]\n",
        "        temp_0  = temp_0 + value\n",
        "      \n",
        "      temp0 = theta0 - alpha*(1/m)*temp_0\n",
        "      temp_1 = 0\n",
        "      for i in range(m):\n",
        "        hx = predict(X[i],theta0,theta1)\n",
        "        value = (hx - Y[i])*X[i]\n",
        "        temp_1 = temp_1 + value\n",
        "      temp1 = theta1 - alpha*(1/m)*temp_1\n",
        "      theta0 = temp0\n",
        "      theta1 = temp1  \n",
        "        \n",
        "        \n",
        "        \n",
        "        \n",
        "        \n",
        "        ### END CODE HERE ###\n",
        "\n",
        "      J.append(computeCost(X, Y, theta0, theta1))\n",
        "    return theta0, theta1, J"
      ],
      "execution_count": 9,
      "outputs": []
    },
    {
      "cell_type": "markdown",
      "metadata": {
        "id": "65gXDlzrUeUL"
      },
      "source": [
        "Execute the next cell to verify your implementation."
      ]
    },
    {
      "cell_type": "code",
      "metadata": {
        "id": "XmDWyoSZUeUO",
        "outputId": "32bfa687-6127-4c38-ea1c-3a4272dca6a3",
        "colab": {
          "base_uri": "https://localhost:8080/",
          "height": 54
        }
      },
      "source": [
        "n_epoch = 1500\n",
        "alpha = 0.01\n",
        "\n",
        "theta0, theta1, J = gradientDescent(X ,Y, alpha, n_epoch)\n",
        "print('Predicted theta0 = %.4f, theta1 = %.4f, cost = %.4f' % (theta0, theta1, J[-1]))\n",
        "print('Expected theta0 = -3.6303, theta1 = 1.1664, cost = 4.4834')"
      ],
      "execution_count": 10,
      "outputs": [
        {
          "output_type": "stream",
          "text": [
            "Predicted theta0 = -3.6303, theta1 = 1.1664, cost = 4.4834\n",
            "Expected theta0 = -3.6303, theta1 = 1.1664, cost = 4.4834\n"
          ],
          "name": "stdout"
        }
      ]
    },
    {
      "cell_type": "markdown",
      "metadata": {
        "id": "WanjVt2xUeUc"
      },
      "source": [
        "### 1.4 Plot the linear fit\n",
        "\n",
        "Use your learned parameters $\\theta_j$ to plot the linear fit."
      ]
    },
    {
      "cell_type": "code",
      "metadata": {
        "id": "ThvI837KUeUf",
        "outputId": "4d5f70d4-45fb-47bb-f787-e83701687479",
        "colab": {
          "base_uri": "https://localhost:8080/",
          "height": 298
        }
      },
      "source": [
        "h_x = list()\n",
        "for x in X:\n",
        "    h_x.append(predict(x, theta0, theta1))\n",
        "pyplot.plot(X, Y, 'ro', ms=10, mec='k')\n",
        "pyplot.ylabel('Profit in $10,000')\n",
        "pyplot.xlabel('Population of City in 10,000s')\n",
        "pyplot.plot(X, h_x, '-')\n",
        "pyplot.legend(['Training data', 'Linear regression'])"
      ],
      "execution_count": 11,
      "outputs": [
        {
          "output_type": "execute_result",
          "data": {
            "text/plain": [
              "<matplotlib.legend.Legend at 0x7fe0f6c88a20>"
            ]
          },
          "metadata": {
            "tags": []
          },
          "execution_count": 11
        },
        {
          "output_type": "display_data",
          "data": {
            "image/png": "[encoded data removed]",
            "text/plain": [
              "<Figure size 432x288 with 1 Axes>"
            ]
          },
          "metadata": {
            "tags": [],
            "needs_background": "light"
          }
        }
      ]
    },
    {
      "cell_type": "markdown",
      "metadata": {
        "id": "YqnGtgB8UeU8"
      },
      "source": [
        "### 1.5 Make predictions\n",
        "\n",
        "Use your learned parameters $\\theta_j$ to make food truck profit predictions in areas with population of 40,000 and 65,000."
      ]
    },
    {
      "cell_type": "code",
      "metadata": {
        "id": "_z4JYyKbUeVU",
        "outputId": "05c37fae-5c2c-4cae-edf9-b97f0d46bf09",
        "colab": {
          "base_uri": "https://localhost:8080/",
          "height": 54
        }
      },
      "source": [
        "print('For population = 40,000, predicted profit = $%.2f' % (predict(4, theta0, theta1)*10000))\n",
        "print('For population = 65,000, predicted profit = $%.2f' % (predict(6.5, theta0, theta1)*10000))"
      ],
      "execution_count": 12,
      "outputs": [
        {
          "output_type": "stream",
          "text": [
            "For population = 40,000, predicted profit = $10351.58\n",
            "For population = 65,000, predicted profit = $39510.64\n"
          ],
          "name": "stdout"
        }
      ]
    },
    {
      "cell_type": "markdown",
      "metadata": {
        "id": "MvFUmRXZUeVf"
      },
      "source": [
        "## 2. Multivariate Linear Regression\n",
        "\n",
        "Now, you will implement multivariate linear regression (from scratch) to predict the the median price of homes in a Boston suburb during the mid-1970s. To do this, you are given with the dataset that has 404 examples in the train set and 102 examples in test set. Each example has 13 input variables (features) and one output variable (price in $10,000s). Below is the description of input variables:\n",
        "\n",
        "- Per capita crime rate.\n",
        "- The proportion of residential land zoned for lots over 25,000 square feet.\n",
        "- The proportion of non-retail business acres per town.\n",
        "- Charles River dummy variable (= 1 if tract bounds river; 0 otherwise).\n",
        "- Nitric oxides concentration (parts per 10 million).\n",
        "- The average number of rooms per dwelling.\n",
        "- The proportion of owner-occupied units built before 1940.\n",
        "- Weighted distances to five Boston employment centers.\n",
        "- Index of accessibility to radial highways.\n",
        "- Full-value property-tax rate per $10,000.\n",
        "- Pupil-teacher ratio by town.\n",
        "- 1000 * (Bk - 0.63) ** 2 where Bk is the proportion of Black people by town.\n",
        "- Percentage lower status of the population.\n",
        "\n",
        "Each one of these input features is stored using a different scale. Some features are represented by a proportion between 0 and 1, other features are ranges between 1 and 12, some are ranges between 0 and 100, and so on. This is often the case with real-world data, and understanding how to explore and clean such data is an important skill to develop.\n",
        "\n",
        "A common way to normalize features that use different scales and ranges is:\n",
        "\n",
        "- Subtract the mean value of each feature from the dataset.\n",
        "- After subtracting the mean, additionally scale (divide) the feature values by their respective standard deviations.\n",
        "\n",
        "Note: We only use examples of the train set to estimate the mean and standard deviation.\n",
        "\n",
        "You have to follow exactly the same steps as above i.e. implement hypothesis, cost function and gradient descent for multivariate linear regression to learn parameters $\\theta$ using train set. Finally, report the cost (error) using your learned parameters $\\theta$ on test set. Expected Mean Square Error on this dataset is 11.5 - 12.5 approximately. \n",
        "\n",
        "We provide you with the code needed to load this dataset. The dataset is loaded from the data files into the variables `train_X`, `train_Y`, `test_X` and `test_Y`."
      ]
    },
    {
      "cell_type": "code",
      "metadata": {
        "id": "niZzVXFTUeVk"
      },
      "source": [
        "# train_X = np.loadtxt(os.path.join('Data', 'ex2traindata.txt'))\n",
        "# train_Y = np.loadtxt(os.path.join('Data', 'ex2trainlabels.txt'))\n",
        "# test_X = np.loadtxt(os.path.join('Data', 'ex2testdata.txt'))\n",
        "# test_Y = np.loadtxt(os.path.join('Data', 'ex2testlabels.txt'))\n",
        "\n",
        "train_X = np.loadtxt('/content/drive/My Drive/Machine Learning Fall 2020/Data/ex2traindata.txt')\n",
        "train_Y = np.loadtxt('/content/drive/My Drive/Machine Learning Fall 2020/Data/ex2trainlabels.txt')\n",
        "test_X = np.loadtxt('/content/drive/My Drive/Machine Learning Fall 2020/Data/ex2testdata.txt')\n",
        "test_Y = np.loadtxt('/content/drive/My Drive/Machine Learning Fall 2020/Data/ex2testlabels.txt')"
      ],
      "execution_count": 13,
      "outputs": []
    },
    {
      "cell_type": "code",
      "metadata": {
        "id": "-E07LfBqf0cb"
      },
      "source": [
        "def normalization(column):\n",
        "  mean = column.mean()\n",
        "  st_dev = column.std()\n",
        "  column = (column - mean)/st_dev\n",
        "\n",
        "  return column,mean,st_dev"
      ],
      "execution_count": 14,
      "outputs": []
    },
    {
      "cell_type": "code",
      "metadata": {
        "id": "97yN4BwkilBf"
      },
      "source": [
        "def updating_data(dt):\n",
        "  df = pd.DataFrame(data = dt)\n",
        "  mean_list =[]\n",
        "  stdev_list = []\n",
        "  for i in range(len(df.columns)):\n",
        "    df[i],mean,stdev = normalization(df[i])\n",
        "    mean_list.append(mean)\n",
        "    stdev_list.append(stdev)\n",
        "  return np.asarray(df),mean_list,stdev_list\n"
      ],
      "execution_count": 15,
      "outputs": []
    },
    {
      "cell_type": "code",
      "metadata": {
        "id": "bSGWUhBomsKx"
      },
      "source": [
        "def updating_test(dt,mean_list,stdev_list):\n",
        "  df = pd.DataFrame(data = dt)\n",
        "  for i in range(len(df.columns)):\n",
        "    df[i] = ((df[i]-mean_list[i]))/stdev_list[i]\n",
        "    \n",
        "  return np.asarray(df)"
      ],
      "execution_count": 16,
      "outputs": []
    },
    {
      "cell_type": "code",
      "metadata": {
        "id": "65G7YC-ci0vt"
      },
      "source": [
        "train_X,X_mean,X_stdev = updating_data(train_X)\n",
        "test_X = updating_test(test_X,X_mean,X_stdev)"
      ],
      "execution_count": 17,
      "outputs": []
    },
    {
      "cell_type": "code",
      "metadata": {
        "id": "7Z49DeuDkCXv"
      },
      "source": [
        "def predict_hx(data,list_theta):\n",
        "  X_0 = 1\n",
        "  try:\n",
        "    for ls in data:\n",
        "      ls.insert(0,X_0)\n",
        "  except:\n",
        "    data.insert(0,X_0)\n",
        "  # X = X_0 + X\n",
        "  list_theta = np.transpose(np.array(list_theta))\n",
        "  hx = list_theta*data\n",
        "  hx_final = []\n",
        "  try:\n",
        "    hx.shape[1]\n",
        "    for h_x in hx:\n",
        "      h_x = h_x.sum()\n",
        "      hx_final.append(h_x)\n",
        "  except:\n",
        "    hx_final.append(hx.sum())\n",
        "  \n",
        "\n",
        "\n",
        "  return hx_final\n"
      ],
      "execution_count": 18,
      "outputs": []
    },
    {
      "cell_type": "code",
      "metadata": {
        "id": "h0PHst3Wgrzc"
      },
      "source": [
        "def costftn(X,Y,theta_list):\n",
        "  m = Y.size  # number of training examples\n",
        "  J = 0\n",
        "      \n",
        "  temp = 0\n",
        "  for i in range(m):\n",
        "    hx = predict_hx(list(X[i]),theta_list)\n",
        "    hx = hx[0]\n",
        "    value = hx - Y[i]\n",
        "    temp  = temp + value**2\n",
        "  J = (1/(2*m))*temp\n",
        "\n",
        "  return J"
      ],
      "execution_count": 19,
      "outputs": []
    },
    {
      "cell_type": "code",
      "metadata": {
        "id": "X2EfQFNVgao4",
        "outputId": "32ca1a36-1db9-44ba-a52b-43e42e385812",
        "colab": {
          "base_uri": "https://localhost:8080/",
          "height": 35
        }
      },
      "source": [
        "thetas = np.zeros(len(train_X[0])+1)\n",
        "J = costftn(train_X,train_Y,thetas)\n",
        "J"
      ],
      "execution_count": 20,
      "outputs": [
        {
          "output_type": "execute_result",
          "data": {
            "text/plain": [
              "293.0802475247523"
            ]
          },
          "metadata": {
            "tags": []
          },
          "execution_count": 20
        }
      ]
    },
    {
      "cell_type": "code",
      "metadata": {
        "id": "GaaY7ex-iKkx"
      },
      "source": [
        "def MVgradientDescent(X,Y,alpha,n_epoch):\n",
        "  m = Y.size  \n",
        "  J = list()  \n",
        "  thetas = np.zeros(len(X[0])+1)\n",
        "  for epoch in range(n_epoch):\n",
        "    temp_thetas = []\n",
        "    temp_0 = 0\n",
        "    for i in range(m):\n",
        "      hx = predict_hx(list(X[i]),thetas)\n",
        "      hx = hx[0]\n",
        "      value = hx - Y[i]\n",
        "      temp_0  = temp_0 + value\n",
        "    \n",
        "    temp0 = thetas[0] - alpha*(1/m)*temp_0\n",
        "    temp_thetas.append(temp0)\n",
        "    temp_1 = 0\n",
        "    for j in range(1,len(thetas)):\n",
        "      for i in range(m):\n",
        "        hx = predict_hx(list(X[i]),thetas)\n",
        "        hx = hx[0]\n",
        "        value = (hx - Y[i])*X[i][j-1]\n",
        "        temp_1 = temp_1 + value\n",
        "      temp_1 = thetas[j] - alpha*(1/m)*temp_1\n",
        "      temp_thetas.append(temp_1)\n",
        "\n",
        "    \n",
        "    for i in range(0,len(thetas)):\n",
        "      thetas[i] = temp_thetas[i]\n",
        "     \n",
        "\n",
        "    J.append(costftn(X, Y, thetas))\n",
        "    # if (epoch % 100 == 0):\n",
        "    #   print('Cost at Epoch ', epoch,' ',J[-1])\n",
        "\n",
        "  return thetas, J"
      ],
      "execution_count": 21,
      "outputs": []
    },
    {
      "cell_type": "code",
      "metadata": {
        "id": "bZRsBsBopcLM",
        "outputId": "88ed2729-5698-4ba4-9d92-f4351023b5e9",
        "colab": {
          "base_uri": "https://localhost:8080/",
          "height": 35
        }
      },
      "source": [
        "n_epoch = 1500\n",
        "alpha = 0.01\n",
        "\n",
        "thetas, J = MVgradientDescent(train_X,train_Y,alpha=0.01,n_epoch = 1500)\n",
        "# print('Value of thetas', thetas)\n",
        "print('Value of Cost ftn', J[-1])"
      ],
      "execution_count": 22,
      "outputs": [
        {
          "output_type": "stream",
          "text": [
            "Value of Cost ftn 11.06363598228723\n"
          ],
          "name": "stdout"
        }
      ]
    },
    {
      "cell_type": "code",
      "metadata": {
        "id": "E8hLIlorv-Qv",
        "outputId": "63f3a406-267b-4f63-b93c-aa6e47fe8ecc",
        "colab": {
          "base_uri": "https://localhost:8080/",
          "height": 35
        }
      },
      "source": [
        "# thetas\n",
        "MSE = costftn(test_X,test_Y,thetas)\n",
        "MSE"
      ],
      "execution_count": 23,
      "outputs": [
        {
          "output_type": "execute_result",
          "data": {
            "text/plain": [
              "11.470204394026766"
            ]
          },
          "metadata": {
            "tags": []
          },
          "execution_count": 23
        }
      ]
    },
    {
      "cell_type": "code",
      "metadata": {
        "id": "4kqJd6MRUeVx",
        "outputId": "4458d77e-04b4-4800-cf9f-43ed88e5ed3f",
        "colab": {
          "base_uri": "https://localhost:8080/",
          "height": 35
        }
      },
      "source": [
        "''' Start your code of part 2 from here, add the new code cells as per your requirement. '''"
      ],
      "execution_count": 24,
      "outputs": [
        {
          "output_type": "execute_result",
          "data": {
            "application/vnd.google.colaboratory.intrinsic+json": {
              "type": "string"
            },
            "text/plain": [
              "' Start your code of part 2 from here, add the new code cells as per your requirement. '"
            ]
          },
          "metadata": {
            "tags": []
          },
          "execution_count": 24
        }
      ]
    },
    {
      "cell_type": "markdown",
      "metadata": {
        "id": "a-6bbfeIUeWY"
      },
      "source": [
        "## 3. Regularized Linear Regression\n",
        "\n",
        "Now, you'll use the [scikit-learn](https://scikit-learn.org/stable/index.html) to implement [Linear Regression](https://scikit-learn.org/stable/modules/generated/sklearn.linear_model.LinearRegression.html), [Ridge](https://scikit-learn.org/stable/modules/generated/sklearn.linear_model.Ridge.html#sklearn.linear_model.Ridge), [Lasso](https://scikit-learn.org/stable/modules/generated/sklearn.linear_model.Lasso.html#sklearn.linear_model.Lasso), [Elastic Net](https://scikit-learn.org/stable/modules/generated/sklearn.linear_model.ElasticNet.html#sklearn.linear_model.ElasticNet) and apply them to Boston house pricing dataset (provided in part 2). Try out different values of regularization coefficient (known as alpha in scikit-learn) and use the [Mean Squared Error](https://scikit-learn.org/stable/modules/generated/sklearn.metrics.mean_squared_error.html) to report loss with each regression. Finally, plot the regularization coefficients alpha (x-axis) with learned parameters $\\theta$ (y-axis) for Ridge and Lasso. Please read [this blog](https://scienceloft.com/technical/understanding-lasso-and-ridge-regression/) to get better understanding of the desired plots."
      ]
    },
    {
      "cell_type": "code",
      "metadata": {
        "id": "oHELCgfnUeWa"
      },
      "source": [
        "from sklearn.linear_model import LinearRegression\n",
        "from sklearn.linear_model import Ridge\n",
        "from sklearn.linear_model import Lasso\n",
        "from sklearn.linear_model import ElasticNet\n",
        "from sklearn.metrics import mean_squared_error"
      ],
      "execution_count": 25,
      "outputs": []
    },
    {
      "cell_type": "code",
      "metadata": {
        "id": "gUtVCM_w5VWK",
        "outputId": "14ecdc8a-10cd-477e-eea5-51cbcac9868f",
        "colab": {
          "base_uri": "https://localhost:8080/",
          "height": 35
        }
      },
      "source": [
        "Lreg = LinearRegression().fit(train_X, train_Y)\n",
        "lreg_pred = Lreg.predict(test_X)\n",
        "lreg_mse = mean_squared_error(test_Y, lreg_pred)\n",
        "print('MSE of Linear Regression: ', lreg_mse)"
      ],
      "execution_count": 26,
      "outputs": [
        {
          "output_type": "stream",
          "text": [
            "MSE of Linear Regression:  23.195599256422973\n"
          ],
          "name": "stdout"
        }
      ]
    },
    {
      "cell_type": "code",
      "metadata": {
        "id": "_ZdpK6tb6Qdn"
      },
      "source": [
        "def Ridge_Reg(val):\n",
        "  rid = Ridge(alpha=val).fit(train_X,train_Y)\n",
        "  rid_pred = rid.predict(test_X)\n",
        "  rid_mse = mean_squared_error(test_Y, rid_pred)\n",
        "  # rid.coef_\n",
        "\n",
        "  return rid_mse, rid.coef_"
      ],
      "execution_count": 27,
      "outputs": []
    },
    {
      "cell_type": "code",
      "metadata": {
        "id": "Z84YMthj9V8v"
      },
      "source": [
        "def Lasso_Reg(val):\n",
        "  las = Lasso(alpha=val).fit(train_X,train_Y)\n",
        "  las_pred = las.predict(test_X)\n",
        "  las_mse = mean_squared_error(test_Y, las_pred)\n",
        "  \n",
        "\n",
        "  return las_mse,las.coef_"
      ],
      "execution_count": 28,
      "outputs": []
    },
    {
      "cell_type": "code",
      "metadata": {
        "id": "K61lo4Jy98DX"
      },
      "source": [
        "def Elastic_Reg(val):\n",
        "  Elastic = ElasticNet(alpha=val).fit(train_X,train_Y)\n",
        "  Elastic_pred = Elastic.predict(test_X)\n",
        "  Elastic_mse = mean_squared_error(test_Y, Elastic_pred)\n",
        "\n",
        "\n",
        "  return Elastic_mse"
      ],
      "execution_count": 29,
      "outputs": []
    },
    {
      "cell_type": "code",
      "metadata": {
        "id": "YmIylo52-TL1",
        "outputId": "b75bb9d5-ec1b-4fdf-9054-2f6a3d388303",
        "colab": {
          "base_uri": "https://localhost:8080/",
          "height": 444
        }
      },
      "source": [
        "max_alphas = 100\n",
        "alpha_range = np.logspace(-5, 10, max_alphas)\n",
        "ridge_coeff = []\n",
        "lasso_coeff =[]\n",
        "mse_rid = []\n",
        "mse_lasso =[]\n",
        "mse_elastic = []\n",
        "print('\"MSE RESULTS\" \\nMSE of Linear Regression: ', lreg_mse)\n",
        "for i in alpha_range:\n",
        "  rid_mse, rid_coef_ = Ridge_Reg(i)\n",
        "  mse_rid.append(rid_mse)\n",
        "  las_mse,las_coef_ = Lasso_Reg(i)\n",
        "  mse_lasso.append(las_mse)\n",
        "  Elastic_mse = Elastic_Reg(i)\n",
        "  mse_elastic.append(Elastic_mse)\n",
        "  # print(las_coef_)\n",
        "  # break\n",
        "  ridge_coeff.append(rid_coef_)\n",
        "  lasso_coeff.append(las_coef_)\n",
        "\n",
        "  # print('\\n--------------------\\nFor alpha = ',i)\n",
        "  # print('MSE Ridge Regression: ',rid_mse)\n",
        "  # print('MSE Lasso Regression: ',las_mse)\n",
        "  # print('MSE Elastic Net Regression: ',Elastic_mse)\n",
        "\n",
        "mse_table = pd.DataFrame()\n",
        "mse_table['Alphas'] = alpha_range\n",
        "mse_table['MSE Ridge'] = mse_rid\n",
        "mse_table['MSE Lasso'] = mse_lasso\n",
        "mse_table['MSE ELastic Net'] = mse_elastic\n",
        "\n",
        "mse_table"
      ],
      "execution_count": 30,
      "outputs": [
        {
          "output_type": "stream",
          "text": [
            "\"MSE RESULTS\" \n",
            "MSE of Linear Regression:  23.195599256422973\n"
          ],
          "name": "stdout"
        },
        {
          "output_type": "execute_result",
          "data": {
            "text/html": [
              "<div>\n",
              "<style scoped>\n",
              "    .dataframe tbody tr th:only-of-type {\n",
              "        vertical-align: middle;\n",
              "    }\n",
              "\n",
              "    .dataframe tbody tr th {\n",
              "        vertical-align: top;\n",
              "    }\n",
              "\n",
              "    .dataframe thead th {\n",
              "        text-align: right;\n",
              "    }\n",
              "</style>\n",
              "<table border=\"1\" class=\"dataframe\">\n",
              "  <thead>\n",
              "    <tr style=\"text-align: right;\">\n",
              "      <th></th>\n",
              "      <th>Alphas</th>\n",
              "      <th>MSE Ridge</th>\n",
              "      <th>MSE Lasso</th>\n",
              "      <th>MSE ELastic Net</th>\n",
              "    </tr>\n",
              "  </thead>\n",
              "  <tbody>\n",
              "    <tr>\n",
              "      <th>0</th>\n",
              "      <td>1.000000e-05</td>\n",
              "      <td>23.195598</td>\n",
              "      <td>23.195448</td>\n",
              "      <td>23.195334</td>\n",
              "    </tr>\n",
              "    <tr>\n",
              "      <th>1</th>\n",
              "      <td>1.417474e-05</td>\n",
              "      <td>23.195598</td>\n",
              "      <td>23.195385</td>\n",
              "      <td>23.195223</td>\n",
              "    </tr>\n",
              "    <tr>\n",
              "      <th>2</th>\n",
              "      <td>2.009233e-05</td>\n",
              "      <td>23.195597</td>\n",
              "      <td>23.195295</td>\n",
              "      <td>23.195066</td>\n",
              "    </tr>\n",
              "    <tr>\n",
              "      <th>3</th>\n",
              "      <td>2.848036e-05</td>\n",
              "      <td>23.195597</td>\n",
              "      <td>23.195168</td>\n",
              "      <td>23.194844</td>\n",
              "    </tr>\n",
              "    <tr>\n",
              "      <th>4</th>\n",
              "      <td>4.037017e-05</td>\n",
              "      <td>23.195595</td>\n",
              "      <td>23.194989</td>\n",
              "      <td>23.194529</td>\n",
              "    </tr>\n",
              "    <tr>\n",
              "      <th>...</th>\n",
              "      <td>...</td>\n",
              "      <td>...</td>\n",
              "      <td>...</td>\n",
              "      <td>...</td>\n",
              "    </tr>\n",
              "    <tr>\n",
              "      <th>95</th>\n",
              "      <td>2.477076e+09</td>\n",
              "      <td>83.710787</td>\n",
              "      <td>83.710859</td>\n",
              "      <td>83.710859</td>\n",
              "    </tr>\n",
              "    <tr>\n",
              "      <th>96</th>\n",
              "      <td>3.511192e+09</td>\n",
              "      <td>83.710808</td>\n",
              "      <td>83.710859</td>\n",
              "      <td>83.710859</td>\n",
              "    </tr>\n",
              "    <tr>\n",
              "      <th>97</th>\n",
              "      <td>4.977024e+09</td>\n",
              "      <td>83.710823</td>\n",
              "      <td>83.710859</td>\n",
              "      <td>83.710859</td>\n",
              "    </tr>\n",
              "    <tr>\n",
              "      <th>98</th>\n",
              "      <td>7.054802e+09</td>\n",
              "      <td>83.710834</td>\n",
              "      <td>83.710859</td>\n",
              "      <td>83.710859</td>\n",
              "    </tr>\n",
              "    <tr>\n",
              "      <th>99</th>\n",
              "      <td>1.000000e+10</td>\n",
              "      <td>83.710841</td>\n",
              "      <td>83.710859</td>\n",
              "      <td>83.710859</td>\n",
              "    </tr>\n",
              "  </tbody>\n",
              "</table>\n",
              "<p>100 rows × 4 columns</p>\n",
              "</div>"
            ],
            "text/plain": [
              "          Alphas  MSE Ridge  MSE Lasso  MSE ELastic Net\n",
              "0   1.000000e-05  23.195598  23.195448        23.195334\n",
              "1   1.417474e-05  23.195598  23.195385        23.195223\n",
              "2   2.009233e-05  23.195597  23.195295        23.195066\n",
              "3   2.848036e-05  23.195597  23.195168        23.194844\n",
              "4   4.037017e-05  23.195595  23.194989        23.194529\n",
              "..           ...        ...        ...              ...\n",
              "95  2.477076e+09  83.710787  83.710859        83.710859\n",
              "96  3.511192e+09  83.710808  83.710859        83.710859\n",
              "97  4.977024e+09  83.710823  83.710859        83.710859\n",
              "98  7.054802e+09  83.710834  83.710859        83.710859\n",
              "99  1.000000e+10  83.710841  83.710859        83.710859\n",
              "\n",
              "[100 rows x 4 columns]"
            ]
          },
          "metadata": {
            "tags": []
          },
          "execution_count": 30
        }
      ]
    },
    {
      "cell_type": "code",
      "metadata": {
        "id": "KwiemBRzALY-",
        "outputId": "6d8fbaaf-5a0c-44b3-cd1d-4b56d2746126",
        "colab": {
          "base_uri": "https://localhost:8080/",
          "height": 289
        }
      },
      "source": [
        "ridge_thetas = pd.DataFrame(columns=['Alpha Value','Theta0','Theta1','Theta2','Theta3','Theta4','Theta5','Theta6','Theta7','Theta8','Theta9','Theta10','Theta11','Theta12'])\n",
        "ridge_thetas['Alpha Value'] = alpha_range\n",
        "for i in range(len(ridge_coeff)):\n",
        "  for j in range(0,13):\n",
        "    ridge_thetas['Theta'+str(j)][i] = ridge_coeff[i][j]\n",
        "  \n",
        "\n",
        "ridge_thetas.head()\n"
      ],
      "execution_count": 31,
      "outputs": [
        {
          "output_type": "stream",
          "text": [
            "/usr/local/lib/python3.6/dist-packages/ipykernel_launcher.py:5: SettingWithCopyWarning: \n",
            "A value is trying to be set on a copy of a slice from a DataFrame\n",
            "\n",
            "See the caveats in the documentation: https://pandas.pydata.org/pandas-docs/stable/user_guide/indexing.html#returning-a-view-versus-a-copy\n",
            "  \"\"\"\n"
          ],
          "name": "stderr"
        },
        {
          "output_type": "execute_result",
          "data": {
            "text/html": [
              "<div>\n",
              "<style scoped>\n",
              "    .dataframe tbody tr th:only-of-type {\n",
              "        vertical-align: middle;\n",
              "    }\n",
              "\n",
              "    .dataframe tbody tr th {\n",
              "        vertical-align: top;\n",
              "    }\n",
              "\n",
              "    .dataframe thead th {\n",
              "        text-align: right;\n",
              "    }\n",
              "</style>\n",
              "<table border=\"1\" class=\"dataframe\">\n",
              "  <thead>\n",
              "    <tr style=\"text-align: right;\">\n",
              "      <th></th>\n",
              "      <th>Alpha Value</th>\n",
              "      <th>Theta0</th>\n",
              "      <th>Theta1</th>\n",
              "      <th>Theta2</th>\n",
              "      <th>Theta3</th>\n",
              "      <th>Theta4</th>\n",
              "      <th>Theta5</th>\n",
              "      <th>Theta6</th>\n",
              "      <th>Theta7</th>\n",
              "      <th>Theta8</th>\n",
              "      <th>Theta9</th>\n",
              "      <th>Theta10</th>\n",
              "      <th>Theta11</th>\n",
              "      <th>Theta12</th>\n",
              "    </tr>\n",
              "  </thead>\n",
              "  <tbody>\n",
              "    <tr>\n",
              "      <th>0</th>\n",
              "      <td>0.000010</td>\n",
              "      <td>-1.10887</td>\n",
              "      <td>1.35477</td>\n",
              "      <td>0.0271346</td>\n",
              "      <td>0.995586</td>\n",
              "      <td>-2.40454</td>\n",
              "      <td>2.39926</td>\n",
              "      <td>0.211457</td>\n",
              "      <td>-3.47552</td>\n",
              "      <td>2.91175</td>\n",
              "      <td>-1.95985</td>\n",
              "      <td>-1.98544</td>\n",
              "      <td>0.820567</td>\n",
              "      <td>-4.03238</td>\n",
              "    </tr>\n",
              "    <tr>\n",
              "      <th>1</th>\n",
              "      <td>0.000014</td>\n",
              "      <td>-1.10886</td>\n",
              "      <td>1.35477</td>\n",
              "      <td>0.0271345</td>\n",
              "      <td>0.995586</td>\n",
              "      <td>-2.40454</td>\n",
              "      <td>2.39926</td>\n",
              "      <td>0.211457</td>\n",
              "      <td>-3.47552</td>\n",
              "      <td>2.91175</td>\n",
              "      <td>-1.95984</td>\n",
              "      <td>-1.98544</td>\n",
              "      <td>0.820567</td>\n",
              "      <td>-4.03238</td>\n",
              "    </tr>\n",
              "    <tr>\n",
              "      <th>2</th>\n",
              "      <td>0.000020</td>\n",
              "      <td>-1.10886</td>\n",
              "      <td>1.35477</td>\n",
              "      <td>0.0271343</td>\n",
              "      <td>0.995586</td>\n",
              "      <td>-2.40454</td>\n",
              "      <td>2.39926</td>\n",
              "      <td>0.211457</td>\n",
              "      <td>-3.47552</td>\n",
              "      <td>2.91175</td>\n",
              "      <td>-1.95984</td>\n",
              "      <td>-1.98544</td>\n",
              "      <td>0.820567</td>\n",
              "      <td>-4.03238</td>\n",
              "    </tr>\n",
              "    <tr>\n",
              "      <th>3</th>\n",
              "      <td>0.000028</td>\n",
              "      <td>-1.10886</td>\n",
              "      <td>1.35477</td>\n",
              "      <td>0.0271341</td>\n",
              "      <td>0.995587</td>\n",
              "      <td>-2.40454</td>\n",
              "      <td>2.39926</td>\n",
              "      <td>0.211457</td>\n",
              "      <td>-3.47552</td>\n",
              "      <td>2.91175</td>\n",
              "      <td>-1.95984</td>\n",
              "      <td>-1.98544</td>\n",
              "      <td>0.820567</td>\n",
              "      <td>-4.03238</td>\n",
              "    </tr>\n",
              "    <tr>\n",
              "      <th>4</th>\n",
              "      <td>0.000040</td>\n",
              "      <td>-1.10886</td>\n",
              "      <td>1.35477</td>\n",
              "      <td>0.0271338</td>\n",
              "      <td>0.995587</td>\n",
              "      <td>-2.40454</td>\n",
              "      <td>2.39926</td>\n",
              "      <td>0.211457</td>\n",
              "      <td>-3.47552</td>\n",
              "      <td>2.91175</td>\n",
              "      <td>-1.95984</td>\n",
              "      <td>-1.98544</td>\n",
              "      <td>0.820567</td>\n",
              "      <td>-4.03238</td>\n",
              "    </tr>\n",
              "  </tbody>\n",
              "</table>\n",
              "</div>"
            ],
            "text/plain": [
              "   Alpha Value   Theta0   Theta1  ...  Theta10   Theta11  Theta12\n",
              "0     0.000010 -1.10887  1.35477  ... -1.98544  0.820567 -4.03238\n",
              "1     0.000014 -1.10886  1.35477  ... -1.98544  0.820567 -4.03238\n",
              "2     0.000020 -1.10886  1.35477  ... -1.98544  0.820567 -4.03238\n",
              "3     0.000028 -1.10886  1.35477  ... -1.98544  0.820567 -4.03238\n",
              "4     0.000040 -1.10886  1.35477  ... -1.98544  0.820567 -4.03238\n",
              "\n",
              "[5 rows x 14 columns]"
            ]
          },
          "metadata": {
            "tags": []
          },
          "execution_count": 31
        }
      ]
    },
    {
      "cell_type": "code",
      "metadata": {
        "id": "J2orcCy9CkR3",
        "outputId": "ca93de63-22e7-4a3b-bd13-3388eac3cab3",
        "colab": {
          "base_uri": "https://localhost:8080/",
          "height": 289
        }
      },
      "source": [
        "lasso_thetas = pd.DataFrame(columns=['Alpha Value','Theta0','Theta1','Theta2','Theta3','Theta4','Theta5','Theta6','Theta7','Theta8','Theta9','Theta10','Theta11','Theta12'])\n",
        "lasso_thetas['Alpha Value'] = alpha_range\n",
        "for i in range(len(lasso_coeff)):\n",
        "  for j in range(0,13):\n",
        "    lasso_thetas['Theta'+str(j)][i] = lasso_coeff[i][j]\n",
        "  \n",
        "\n",
        "lasso_thetas.head()"
      ],
      "execution_count": 32,
      "outputs": [
        {
          "output_type": "stream",
          "text": [
            "/usr/local/lib/python3.6/dist-packages/ipykernel_launcher.py:5: SettingWithCopyWarning: \n",
            "A value is trying to be set on a copy of a slice from a DataFrame\n",
            "\n",
            "See the caveats in the documentation: https://pandas.pydata.org/pandas-docs/stable/user_guide/indexing.html#returning-a-view-versus-a-copy\n",
            "  \"\"\"\n"
          ],
          "name": "stderr"
        },
        {
          "output_type": "execute_result",
          "data": {
            "text/html": [
              "<div>\n",
              "<style scoped>\n",
              "    .dataframe tbody tr th:only-of-type {\n",
              "        vertical-align: middle;\n",
              "    }\n",
              "\n",
              "    .dataframe tbody tr th {\n",
              "        vertical-align: top;\n",
              "    }\n",
              "\n",
              "    .dataframe thead th {\n",
              "        text-align: right;\n",
              "    }\n",
              "</style>\n",
              "<table border=\"1\" class=\"dataframe\">\n",
              "  <thead>\n",
              "    <tr style=\"text-align: right;\">\n",
              "      <th></th>\n",
              "      <th>Alpha Value</th>\n",
              "      <th>Theta0</th>\n",
              "      <th>Theta1</th>\n",
              "      <th>Theta2</th>\n",
              "      <th>Theta3</th>\n",
              "      <th>Theta4</th>\n",
              "      <th>Theta5</th>\n",
              "      <th>Theta6</th>\n",
              "      <th>Theta7</th>\n",
              "      <th>Theta8</th>\n",
              "      <th>Theta9</th>\n",
              "      <th>Theta10</th>\n",
              "      <th>Theta11</th>\n",
              "      <th>Theta12</th>\n",
              "    </tr>\n",
              "  </thead>\n",
              "  <tbody>\n",
              "    <tr>\n",
              "      <th>0</th>\n",
              "      <td>0.000010</td>\n",
              "      <td>-1.10884</td>\n",
              "      <td>1.35472</td>\n",
              "      <td>0.0270476</td>\n",
              "      <td>0.995588</td>\n",
              "      <td>-2.40446</td>\n",
              "      <td>2.39928</td>\n",
              "      <td>0.211409</td>\n",
              "      <td>-3.47549</td>\n",
              "      <td>2.91156</td>\n",
              "      <td>-1.95966</td>\n",
              "      <td>-1.98542</td>\n",
              "      <td>0.820559</td>\n",
              "      <td>-4.03236</td>\n",
              "    </tr>\n",
              "    <tr>\n",
              "      <th>1</th>\n",
              "      <td>0.000014</td>\n",
              "      <td>-1.10883</td>\n",
              "      <td>1.3547</td>\n",
              "      <td>0.0270111</td>\n",
              "      <td>0.995589</td>\n",
              "      <td>-2.40443</td>\n",
              "      <td>2.39928</td>\n",
              "      <td>0.211388</td>\n",
              "      <td>-3.47548</td>\n",
              "      <td>2.91148</td>\n",
              "      <td>-1.95958</td>\n",
              "      <td>-1.98541</td>\n",
              "      <td>0.820555</td>\n",
              "      <td>-4.03235</td>\n",
              "    </tr>\n",
              "    <tr>\n",
              "      <th>2</th>\n",
              "      <td>0.000020</td>\n",
              "      <td>-1.10881</td>\n",
              "      <td>1.35467</td>\n",
              "      <td>0.0269595</td>\n",
              "      <td>0.99559</td>\n",
              "      <td>-2.40438</td>\n",
              "      <td>2.3993</td>\n",
              "      <td>0.21136</td>\n",
              "      <td>-3.47546</td>\n",
              "      <td>2.91136</td>\n",
              "      <td>-1.95946</td>\n",
              "      <td>-1.98539</td>\n",
              "      <td>0.820551</td>\n",
              "      <td>-4.03234</td>\n",
              "    </tr>\n",
              "    <tr>\n",
              "      <th>3</th>\n",
              "      <td>0.000028</td>\n",
              "      <td>-1.10879</td>\n",
              "      <td>1.35464</td>\n",
              "      <td>0.0268862</td>\n",
              "      <td>0.995592</td>\n",
              "      <td>-2.40432</td>\n",
              "      <td>2.39931</td>\n",
              "      <td>0.211319</td>\n",
              "      <td>-3.47544</td>\n",
              "      <td>2.91119</td>\n",
              "      <td>-1.95931</td>\n",
              "      <td>-1.98537</td>\n",
              "      <td>0.820544</td>\n",
              "      <td>-4.03232</td>\n",
              "    </tr>\n",
              "    <tr>\n",
              "      <th>4</th>\n",
              "      <td>0.000040</td>\n",
              "      <td>-1.10876</td>\n",
              "      <td>1.35458</td>\n",
              "      <td>0.0267825</td>\n",
              "      <td>0.995594</td>\n",
              "      <td>-2.40422</td>\n",
              "      <td>2.39933</td>\n",
              "      <td>0.211261</td>\n",
              "      <td>-3.4754</td>\n",
              "      <td>2.91096</td>\n",
              "      <td>-1.95908</td>\n",
              "      <td>-1.98534</td>\n",
              "      <td>0.820534</td>\n",
              "      <td>-4.03229</td>\n",
              "    </tr>\n",
              "  </tbody>\n",
              "</table>\n",
              "</div>"
            ],
            "text/plain": [
              "   Alpha Value   Theta0   Theta1  ...  Theta10   Theta11  Theta12\n",
              "0     0.000010 -1.10884  1.35472  ... -1.98542  0.820559 -4.03236\n",
              "1     0.000014 -1.10883   1.3547  ... -1.98541  0.820555 -4.03235\n",
              "2     0.000020 -1.10881  1.35467  ... -1.98539  0.820551 -4.03234\n",
              "3     0.000028 -1.10879  1.35464  ... -1.98537  0.820544 -4.03232\n",
              "4     0.000040 -1.10876  1.35458  ... -1.98534  0.820534 -4.03229\n",
              "\n",
              "[5 rows x 14 columns]"
            ]
          },
          "metadata": {
            "tags": []
          },
          "execution_count": 32
        }
      ]
    },
    {
      "cell_type": "code",
      "metadata": {
        "id": "gSvQO2ZHAN1T",
        "outputId": "0dd9efd9-b1d9-4978-a04d-722a74540c51",
        "colab": {
          "base_uri": "https://localhost:8080/",
          "height": 601
        }
      },
      "source": [
        "plt.figure(figsize=(20,10))\n",
        "ax = plt.gca()\n",
        "\n",
        "ax.plot(alpha_range, ridge_coeff)\n",
        "ax.set_xscale('log')\n",
        "plt.xlabel('Log Lambda')\n",
        "plt.ylabel('Coefficients')\n",
        "plt.title('Ridge Regression coefficients vs Log Lambda')\n",
        "plt.legend(ridge_thetas.columns[1:])\n",
        "plt.show()\n"
      ],
      "execution_count": 33,
      "outputs": [
        {
          "output_type": "display_data",
          "data": {
            "image/png": "[encoded data removed]",
            "text/plain": [
              "<Figure size 1440x720 with 1 Axes>"
            ]
          },
          "metadata": {
            "tags": [],
            "needs_background": "light"
          }
        }
      ]
    },
    {
      "cell_type": "code",
      "metadata": {
        "id": "EynOLsT1DdZ3",
        "outputId": "3880e560-3285-4d68-f7ee-6c8ed574960f",
        "colab": {
          "base_uri": "https://localhost:8080/",
          "height": 601
        }
      },
      "source": [
        "plt.figure(figsize=(20,10))\n",
        "ax = plt.gca()\n",
        "\n",
        "ax.plot(alpha_range, lasso_coeff)\n",
        "ax.set_xscale('log')\n",
        "plt.xlabel('Log Lambda')\n",
        "plt.ylabel('Coefficient')\n",
        "plt.title('Lasso Regression coefficients vs Log Lambda')\n",
        "plt.legend(lasso_thetas.columns[1:])\n",
        "plt.show()\n"
      ],
      "execution_count": 34,
      "outputs": [
        {
          "output_type": "display_data",
          "data": {
            "image/png": "[encoded data removed]",
            "text/plain": [
              "<Figure size 1440x720 with 1 Axes>"
            ]
          },
          "metadata": {
            "tags": [],
            "needs_background": "light"
          }
        }
      ]
    },
    {
      "cell_type": "code",
      "metadata": {
        "id": "xmPpFpyg9hfC"
      },
      "source": [
        "# rid = Ridge(alpha=1.0).fit(train_X,train_Y)\n",
        "# rid_pred = rid.predict(test_X)\n",
        "# rid_mse = mean_squared_error(test_Y, rid_pred)\n",
        "# rid.coef_"
      ],
      "execution_count": 35,
      "outputs": []
    },
    {
      "cell_type": "code",
      "metadata": {
        "id": "8v6Ios1Z5qcE"
      },
      "source": [
        "# lreg_mse "
      ],
      "execution_count": 36,
      "outputs": []
    },
    {
      "cell_type": "code",
      "metadata": {
        "id": "YoymgePIUeWk",
        "outputId": "7499d258-151f-4dcd-c7ca-aa748f42b23a",
        "colab": {
          "base_uri": "https://localhost:8080/",
          "height": 35
        }
      },
      "source": [
        "''' Start your code of part 3 from here, add the new code cells as per your requirement. '''"
      ],
      "execution_count": 37,
      "outputs": [
        {
          "output_type": "execute_result",
          "data": {
            "application/vnd.google.colaboratory.intrinsic+json": {
              "type": "string"
            },
            "text/plain": [
              "' Start your code of part 3 from here, add the new code cells as per your requirement. '"
            ]
          },
          "metadata": {
            "tags": []
          },
          "execution_count": 37
        }
      ]
    },
    {
      "cell_type": "code",
      "metadata": {
        "id": "O8Btk5XDUeW2"
      },
      "source": [
        ""
      ],
      "execution_count": 37,
      "outputs": []
    }
  ]
}